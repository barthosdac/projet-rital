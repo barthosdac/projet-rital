{
 "cells": [
  {
   "cell_type": "code",
   "execution_count": 1,
   "id": "bb5b473b",
   "metadata": {
    "id": "bb5b473b",
    "outputId": "1af6bd2f-3dad-4563-a621-afb8c7ba70cc"
   },
   "outputs": [
    {
     "name": "stderr",
     "output_type": "stream",
     "text": [
      "PyTerrier 0.9.2 has loaded Terrier 5.7 (built by craigm on 2022-11-10 18:30) and terrier-helper 0.0.7\n",
      "\n",
      "No etc/terrier.properties, using terrier.default.properties for bootstrap configuration.\n"
     ]
    }
   ],
   "source": [
    "#!pip install python-terrier\n",
    "\n",
    "import numpy as np\n",
    "import pandas as pd\n",
    "import pyterrier as pt\n",
    "import os\n",
    "\n",
    "os.environ[\"JAVA_HOME\"] = \"/usr/lib/jvm/java-11-openjdk-amd64/\"\n",
    "if not pt.started():\n",
    "    pt.init(boot_packages=[\"com.github.terrierteam:terrier-prf:-SNAPSHOT\"])\n",
    "\n"
   ]
  },
  {
   "cell_type": "code",
   "execution_count": 2,
   "id": "zrr1tVQPdxOe",
   "metadata": {
    "colab": {
     "base_uri": "https://localhost:8080/"
    },
    "id": "zrr1tVQPdxOe",
    "outputId": "7093e481-0e03-4a25-f246-bc27ab19a6a5"
   },
   "outputs": [],
   "source": [
    "#from google.colab import drive\n",
    "#drive.mount('/content/drive')\n",
    "#%cd /content/drive/MyDrive/M1_S2/RITAL/projet2\n",
    "import json\n",
    "import os\n",
    "import pandas as pd"
   ]
  },
  {
   "cell_type": "code",
   "execution_count": 3,
   "id": "ela21hWEZTqs",
   "metadata": {
    "id": "ela21hWEZTqs"
   },
   "outputs": [],
   "source": [
    "#!pip install python-terrier\n",
    "import pandas as pd\n",
    "\n",
    "import pyterrier as pt\n",
    "if not pt.started():\n",
    "  pt.init(boot_packages=[\"com.github.terrierteam:terrier-prf:-SNAPSHOT\"])"
   ]
  },
  {
   "cell_type": "markdown",
   "id": "96f58591",
   "metadata": {
    "id": "96f58591"
   },
   "source": [
    "# 1 - Chargement des fichiers"
   ]
  },
  {
   "cell_type": "markdown",
   "id": "d586f047",
   "metadata": {
    "id": "d586f047"
   },
   "source": [
    "### 1a) Chargement documents"
   ]
  },
  {
   "cell_type": "markdown",
   "id": "968356eb",
   "metadata": {
    "id": "968356eb"
   },
   "source": [
    "On charge le json dans un fichier pyterrier index"
   ]
  },
  {
   "cell_type": "code",
   "execution_count": 5,
   "id": "f3149bd2",
   "metadata": {},
   "outputs": [],
   "source": [
    "# chargement du json en dataframe\n",
    "with open('WikiPassageQA/document_passages.json', 'r') as f:\n",
    "        data_row = json.load(f)\n",
    "data={\"DocumentID\" : [int(k0) for k0,v0 in data_row.items() for k1,v1 in v0.items()],\n",
    "    \"docno\" : [k0+','+k1 for k0,v0 in data_row.items() for k1,v1 in v0.items()],\n",
    "      \"text\"  : [v1 for k0,v0 in data_row.items() for k1,v1 in v0.items()]}\n",
    "docs_df = pd.DataFrame(data)"
   ]
  },
  {
   "cell_type": "code",
   "execution_count": 6,
   "id": "5efab430",
   "metadata": {
    "id": "5efab430"
   },
   "outputs": [],
   "source": [
    "import json\n",
    "pt_index_path = './passageQA'\n",
    "if not os.path.exists(pt_index_path + \"/data.properties\") :\n",
    "    # création de l'index\n",
    "    indexer = pt.DFIndexer(pt_index_path, overwrite=True) \n",
    "    index_ref = indexer.index(docs_df[\"text\"], docs_df[\"docno\"])\n",
    "\n",
    "else:\n",
    "    # dans le cas où l'index existe déjà\n",
    "    index_ref = pt.IndexRef.of(pt_index_path + \"/data.properties\")\n",
    "index = pt.IndexFactory.of(index_ref)"
   ]
  },
  {
   "cell_type": "code",
   "execution_count": 7,
   "id": "89a28a08",
   "metadata": {
    "colab": {
     "base_uri": "https://localhost:8080/"
    },
    "id": "89a28a08",
    "outputId": "b19e69a0-959e-4c0e-e80d-9bd0423cc59f"
   },
   "outputs": [
    {
     "name": "stdout",
     "output_type": "stream",
     "text": [
      "Number of documents: 50612\n",
      "Number of terms: 103283\n",
      "Number of postings: 3056988\n",
      "Number of fields: 0\n",
      "Number of tokens: 3906884\n",
      "Field names: []\n",
      "Positions:   false\n",
      "\n"
     ]
    }
   ],
   "source": [
    "print(index.getCollectionStatistics().toString())"
   ]
  },
  {
   "cell_type": "markdown",
   "id": "c60e0771",
   "metadata": {},
   "source": [
    "### 1b) Chargement queries"
   ]
  },
  {
   "cell_type": "code",
   "execution_count": 8,
   "id": "faa628e9",
   "metadata": {
    "colab": {
     "base_uri": "https://localhost:8080/",
     "height": 424
    },
    "id": "faa628e9",
    "outputId": "4b4cd748-0492-481d-a4c3-08a935d859cb"
   },
   "outputs": [],
   "source": [
    "df_train = pd.read_csv(\"WikiPassageQA/train.tsv\",sep='\\t')\n",
    "df_test = pd.read_csv(\"WikiPassageQA/test.tsv\",sep='\\t')\n",
    "df_dev = pd.read_csv(\"WikiPassageQA/dev.tsv\",sep='\\t')"
   ]
  },
  {
   "cell_type": "code",
   "execution_count": 27,
   "id": "96aaeecd",
   "metadata": {},
   "outputs": [
    {
     "data": {
      "text/html": [
       "<div>\n",
       "<style scoped>\n",
       "    .dataframe tbody tr th:only-of-type {\n",
       "        vertical-align: middle;\n",
       "    }\n",
       "\n",
       "    .dataframe tbody tr th {\n",
       "        vertical-align: top;\n",
       "    }\n",
       "\n",
       "    .dataframe thead th {\n",
       "        text-align: right;\n",
       "    }\n",
       "</style>\n",
       "<table border=\"1\" class=\"dataframe\">\n",
       "  <thead>\n",
       "    <tr style=\"text-align: right;\">\n",
       "      <th></th>\n",
       "      <th>qid</th>\n",
       "      <th>query</th>\n",
       "    </tr>\n",
       "  </thead>\n",
       "  <tbody>\n",
       "    <tr>\n",
       "      <th>0</th>\n",
       "      <td>449</td>\n",
       "      <td>What is Iraq's role in political unstabilization?</td>\n",
       "    </tr>\n",
       "    <tr>\n",
       "      <th>1</th>\n",
       "      <td>1140</td>\n",
       "      <td>What have been the warmest years of global war...</td>\n",
       "    </tr>\n",
       "    <tr>\n",
       "      <th>2</th>\n",
       "      <td>782</td>\n",
       "      <td>How were the Olympic games broadcasted?</td>\n",
       "    </tr>\n",
       "    <tr>\n",
       "      <th>3</th>\n",
       "      <td>1421</td>\n",
       "      <td>What was the election turnout for 2008?</td>\n",
       "    </tr>\n",
       "    <tr>\n",
       "      <th>4</th>\n",
       "      <td>3738</td>\n",
       "      <td>How has secularism been misinterpreted in Amer...</td>\n",
       "    </tr>\n",
       "    <tr>\n",
       "      <th>...</th>\n",
       "      <td>...</td>\n",
       "      <td>...</td>\n",
       "    </tr>\n",
       "    <tr>\n",
       "      <th>411</th>\n",
       "      <td>2522</td>\n",
       "      <td>What does the Church mean by Fallen Nature?</td>\n",
       "    </tr>\n",
       "    <tr>\n",
       "      <th>412</th>\n",
       "      <td>2851</td>\n",
       "      <td>What is the history of Eurasia?</td>\n",
       "    </tr>\n",
       "    <tr>\n",
       "      <th>413</th>\n",
       "      <td>3705</td>\n",
       "      <td>What are the nicknames of Missouri?</td>\n",
       "    </tr>\n",
       "    <tr>\n",
       "      <th>414</th>\n",
       "      <td>799</td>\n",
       "      <td>How do endoglossic and exoglossic languages co...</td>\n",
       "    </tr>\n",
       "    <tr>\n",
       "      <th>415</th>\n",
       "      <td>232</td>\n",
       "      <td>Why are drainage basins important to the ecology?</td>\n",
       "    </tr>\n",
       "  </tbody>\n",
       "</table>\n",
       "<p>416 rows × 2 columns</p>\n",
       "</div>"
      ],
      "text/plain": [
       "      qid                                              query\n",
       "0     449  What is Iraq's role in political unstabilization?\n",
       "1    1140  What have been the warmest years of global war...\n",
       "2     782            How were the Olympic games broadcasted?\n",
       "3    1421            What was the election turnout for 2008?\n",
       "4    3738  How has secularism been misinterpreted in Amer...\n",
       "..    ...                                                ...\n",
       "411  2522        What does the Church mean by Fallen Nature?\n",
       "412  2851                    What is the history of Eurasia?\n",
       "413  3705                What are the nicknames of Missouri?\n",
       "414   799  How do endoglossic and exoglossic languages co...\n",
       "415   232  Why are drainage basins important to the ecology?\n",
       "\n",
       "[416 rows x 2 columns]"
      ]
     },
     "execution_count": 27,
     "metadata": {},
     "output_type": "execute_result"
    }
   ],
   "source": [
    "queries_train=df_train[[\"QID\", \"Question\"]]\n",
    "queries_train.columns = ['qid', 'query']\n",
    "queries_test=df_test[[\"QID\", \"Question\"]]\n",
    "queries_test.columns = ['qid', 'query']\n",
    "queries_dev=df_dev[[\"QID\", \"Question\"]]\n",
    "queries_dev.columns = ['qid', 'query']\n",
    "\n",
    "queries_test"
   ]
  },
  {
   "cell_type": "markdown",
   "id": "jsC8OJ8wBZEo",
   "metadata": {
    "id": "jsC8OJ8wBZEo"
   },
   "source": [
    "### 1c) Création qrels"
   ]
  },
  {
   "cell_type": "code",
   "execution_count": 10,
   "id": "IBUL3yFd4iNO",
   "metadata": {
    "colab": {
     "base_uri": "https://localhost:8080/",
     "height": 641
    },
    "id": "IBUL3yFd4iNO",
    "outputId": "14edcb18-771a-4d20-e1fe-b54a5b25cdce"
   },
   "outputs": [
    {
     "data": {
      "text/html": [
       "<div>\n",
       "<style scoped>\n",
       "    .dataframe tbody tr th:only-of-type {\n",
       "        vertical-align: middle;\n",
       "    }\n",
       "\n",
       "    .dataframe tbody tr th {\n",
       "        vertical-align: top;\n",
       "    }\n",
       "\n",
       "    .dataframe thead th {\n",
       "        text-align: right;\n",
       "    }\n",
       "</style>\n",
       "<table border=\"1\" class=\"dataframe\">\n",
       "  <thead>\n",
       "    <tr style=\"text-align: right;\">\n",
       "      <th></th>\n",
       "      <th>QID</th>\n",
       "      <th>Question</th>\n",
       "      <th>DocumentID</th>\n",
       "      <th>DocumentName</th>\n",
       "      <th>RelevantPassages</th>\n",
       "      <th>docno</th>\n",
       "      <th>text</th>\n",
       "    </tr>\n",
       "  </thead>\n",
       "  <tbody>\n",
       "    <tr>\n",
       "      <th>0</th>\n",
       "      <td>3086</td>\n",
       "      <td>What is the role of conversionism in Evangelic...</td>\n",
       "      <td>672</td>\n",
       "      <td>Evangelicalism.html</td>\n",
       "      <td>4</td>\n",
       "      <td>672,42</td>\n",
       "      <td>They claimed major credit for the election of ...</td>\n",
       "    </tr>\n",
       "    <tr>\n",
       "      <th>1</th>\n",
       "      <td>3086</td>\n",
       "      <td>What is the role of conversionism in Evangelic...</td>\n",
       "      <td>672</td>\n",
       "      <td>Evangelicalism.html</td>\n",
       "      <td>4</td>\n",
       "      <td>672,48</td>\n",
       "      <td>Evangelicalism was a major force in the Anglic...</td>\n",
       "    </tr>\n",
       "    <tr>\n",
       "      <th>2</th>\n",
       "      <td>3086</td>\n",
       "      <td>What is the role of conversionism in Evangelic...</td>\n",
       "      <td>672</td>\n",
       "      <td>Evangelicalism.html</td>\n",
       "      <td>4</td>\n",
       "      <td>672,43</td>\n",
       "      <td>The rich and the poor remained traditional Cat...</td>\n",
       "    </tr>\n",
       "    <tr>\n",
       "      <th>3</th>\n",
       "      <td>3086</td>\n",
       "      <td>What is the role of conversionism in Evangelic...</td>\n",
       "      <td>672</td>\n",
       "      <td>Evangelicalism.html</td>\n",
       "      <td>4</td>\n",
       "      <td>672,49</td>\n",
       "      <td>The Evangelical Alliance, formed in 1846, was ...</td>\n",
       "    </tr>\n",
       "    <tr>\n",
       "      <th>4</th>\n",
       "      <td>3086</td>\n",
       "      <td>What is the role of conversionism in Evangelic...</td>\n",
       "      <td>672</td>\n",
       "      <td>Evangelicalism.html</td>\n",
       "      <td>4</td>\n",
       "      <td>672,24</td>\n",
       "      <td>By 1737, Whitefield had become a national cele...</td>\n",
       "    </tr>\n",
       "    <tr>\n",
       "      <th>...</th>\n",
       "      <td>...</td>\n",
       "      <td>...</td>\n",
       "      <td>...</td>\n",
       "      <td>...</td>\n",
       "      <td>...</td>\n",
       "      <td>...</td>\n",
       "      <td>...</td>\n",
       "    </tr>\n",
       "    <tr>\n",
       "      <th>244131</th>\n",
       "      <td>2570</td>\n",
       "      <td>How was the kalmar Union formed?</td>\n",
       "      <td>553</td>\n",
       "      <td>Norway.html</td>\n",
       "      <td>18,19,20,21</td>\n",
       "      <td>553,72</td>\n",
       "      <td>The budgetary rule is to spend no more than 4%...</td>\n",
       "    </tr>\n",
       "    <tr>\n",
       "      <th>244132</th>\n",
       "      <td>2570</td>\n",
       "      <td>How was the kalmar Union formed?</td>\n",
       "      <td>553</td>\n",
       "      <td>Norway.html</td>\n",
       "      <td>18,19,20,21</td>\n",
       "      <td>553,71</td>\n",
       "      <td>Norway is the fifth-largest oil exporter and t...</td>\n",
       "    </tr>\n",
       "    <tr>\n",
       "      <th>244133</th>\n",
       "      <td>2570</td>\n",
       "      <td>How was the kalmar Union formed?</td>\n",
       "      <td>553</td>\n",
       "      <td>Norway.html</td>\n",
       "      <td>18,19,20,21</td>\n",
       "      <td>553,70</td>\n",
       "      <td>In 2011, 28% of state revenues were generated ...</td>\n",
       "    </tr>\n",
       "    <tr>\n",
       "      <th>244134</th>\n",
       "      <td>2570</td>\n",
       "      <td>How was the kalmar Union formed?</td>\n",
       "      <td>553</td>\n",
       "      <td>Norway.html</td>\n",
       "      <td>18,19,20,21</td>\n",
       "      <td>553,79</td>\n",
       "      <td>The two most prominent are the E6 going north-...</td>\n",
       "    </tr>\n",
       "    <tr>\n",
       "      <th>244135</th>\n",
       "      <td>2570</td>\n",
       "      <td>How was the kalmar Union formed?</td>\n",
       "      <td>553</td>\n",
       "      <td>Norway.html</td>\n",
       "      <td>18,19,20,21</td>\n",
       "      <td>553,78</td>\n",
       "      <td>Several companies operate freight trains. Inve...</td>\n",
       "    </tr>\n",
       "  </tbody>\n",
       "</table>\n",
       "<p>244136 rows × 7 columns</p>\n",
       "</div>"
      ],
      "text/plain": [
       "         QID                                           Question  DocumentID  \\\n",
       "0       3086  What is the role of conversionism in Evangelic...         672   \n",
       "1       3086  What is the role of conversionism in Evangelic...         672   \n",
       "2       3086  What is the role of conversionism in Evangelic...         672   \n",
       "3       3086  What is the role of conversionism in Evangelic...         672   \n",
       "4       3086  What is the role of conversionism in Evangelic...         672   \n",
       "...      ...                                                ...         ...   \n",
       "244131  2570                   How was the kalmar Union formed?         553   \n",
       "244132  2570                   How was the kalmar Union formed?         553   \n",
       "244133  2570                   How was the kalmar Union formed?         553   \n",
       "244134  2570                   How was the kalmar Union formed?         553   \n",
       "244135  2570                   How was the kalmar Union formed?         553   \n",
       "\n",
       "               DocumentName RelevantPassages   docno  \\\n",
       "0       Evangelicalism.html                4  672,42   \n",
       "1       Evangelicalism.html                4  672,48   \n",
       "2       Evangelicalism.html                4  672,43   \n",
       "3       Evangelicalism.html                4  672,49   \n",
       "4       Evangelicalism.html                4  672,24   \n",
       "...                     ...              ...     ...   \n",
       "244131          Norway.html      18,19,20,21  553,72   \n",
       "244132          Norway.html      18,19,20,21  553,71   \n",
       "244133          Norway.html      18,19,20,21  553,70   \n",
       "244134          Norway.html      18,19,20,21  553,79   \n",
       "244135          Norway.html      18,19,20,21  553,78   \n",
       "\n",
       "                                                     text  \n",
       "0       They claimed major credit for the election of ...  \n",
       "1       Evangelicalism was a major force in the Anglic...  \n",
       "2       The rich and the poor remained traditional Cat...  \n",
       "3       The Evangelical Alliance, formed in 1846, was ...  \n",
       "4       By 1737, Whitefield had become a national cele...  \n",
       "...                                                   ...  \n",
       "244131  The budgetary rule is to spend no more than 4%...  \n",
       "244132  Norway is the fifth-largest oil exporter and t...  \n",
       "244133  In 2011, 28% of state revenues were generated ...  \n",
       "244134  The two most prominent are the E6 going north-...  \n",
       "244135  Several companies operate freight trains. Inve...  \n",
       "\n",
       "[244136 rows x 7 columns]"
      ]
     },
     "execution_count": 10,
     "metadata": {},
     "output_type": "execute_result"
    }
   ],
   "source": [
    "df_query = pd.concat([df_train, df_test, df_dev])\n",
    "df_complete = df_query.merge(docs_df, on =[\"DocumentID\"])\n",
    "df_complete"
   ]
  },
  {
   "cell_type": "code",
   "execution_count": 11,
   "id": "cwLL7ddU9ph2",
   "metadata": {
    "colab": {
     "base_uri": "https://localhost:8080/",
     "height": 206
    },
    "id": "cwLL7ddU9ph2",
    "outputId": "f54caa62-d5ee-4679-9618-749c0e346578"
   },
   "outputs": [
    {
     "data": {
      "text/html": [
       "<div>\n",
       "<style scoped>\n",
       "    .dataframe tbody tr th:only-of-type {\n",
       "        vertical-align: middle;\n",
       "    }\n",
       "\n",
       "    .dataframe tbody tr th {\n",
       "        vertical-align: top;\n",
       "    }\n",
       "\n",
       "    .dataframe thead th {\n",
       "        text-align: right;\n",
       "    }\n",
       "</style>\n",
       "<table border=\"1\" class=\"dataframe\">\n",
       "  <thead>\n",
       "    <tr style=\"text-align: right;\">\n",
       "      <th></th>\n",
       "      <th>qid</th>\n",
       "      <th>docno</th>\n",
       "      <th>label</th>\n",
       "    </tr>\n",
       "  </thead>\n",
       "  <tbody>\n",
       "    <tr>\n",
       "      <th>0</th>\n",
       "      <td>3086</td>\n",
       "      <td>672,42</td>\n",
       "      <td>0</td>\n",
       "    </tr>\n",
       "    <tr>\n",
       "      <th>1</th>\n",
       "      <td>3086</td>\n",
       "      <td>672,48</td>\n",
       "      <td>0</td>\n",
       "    </tr>\n",
       "    <tr>\n",
       "      <th>2</th>\n",
       "      <td>3086</td>\n",
       "      <td>672,43</td>\n",
       "      <td>0</td>\n",
       "    </tr>\n",
       "    <tr>\n",
       "      <th>3</th>\n",
       "      <td>3086</td>\n",
       "      <td>672,49</td>\n",
       "      <td>0</td>\n",
       "    </tr>\n",
       "    <tr>\n",
       "      <th>4</th>\n",
       "      <td>3086</td>\n",
       "      <td>672,24</td>\n",
       "      <td>0</td>\n",
       "    </tr>\n",
       "    <tr>\n",
       "      <th>...</th>\n",
       "      <td>...</td>\n",
       "      <td>...</td>\n",
       "      <td>...</td>\n",
       "    </tr>\n",
       "    <tr>\n",
       "      <th>244131</th>\n",
       "      <td>2570</td>\n",
       "      <td>553,72</td>\n",
       "      <td>0</td>\n",
       "    </tr>\n",
       "    <tr>\n",
       "      <th>244132</th>\n",
       "      <td>2570</td>\n",
       "      <td>553,71</td>\n",
       "      <td>0</td>\n",
       "    </tr>\n",
       "    <tr>\n",
       "      <th>244133</th>\n",
       "      <td>2570</td>\n",
       "      <td>553,70</td>\n",
       "      <td>0</td>\n",
       "    </tr>\n",
       "    <tr>\n",
       "      <th>244134</th>\n",
       "      <td>2570</td>\n",
       "      <td>553,79</td>\n",
       "      <td>0</td>\n",
       "    </tr>\n",
       "    <tr>\n",
       "      <th>244135</th>\n",
       "      <td>2570</td>\n",
       "      <td>553,78</td>\n",
       "      <td>0</td>\n",
       "    </tr>\n",
       "  </tbody>\n",
       "</table>\n",
       "<p>244136 rows × 3 columns</p>\n",
       "</div>"
      ],
      "text/plain": [
       "         qid   docno label\n",
       "0       3086  672,42     0\n",
       "1       3086  672,48     0\n",
       "2       3086  672,43     0\n",
       "3       3086  672,49     0\n",
       "4       3086  672,24     0\n",
       "...      ...     ...   ...\n",
       "244131  2570  553,72     0\n",
       "244132  2570  553,71     0\n",
       "244133  2570  553,70     0\n",
       "244134  2570  553,79     0\n",
       "244135  2570  553,78     0\n",
       "\n",
       "[244136 rows x 3 columns]"
      ]
     },
     "execution_count": 11,
     "metadata": {},
     "output_type": "execute_result"
    }
   ],
   "source": [
    "# cree list relevant\n",
    "relevant = []\n",
    "for row in df_complete.iterrows():\n",
    "  passage = row[1]['RelevantPassages'].split(\",\")\n",
    "  doc_passage = row[1]['docno'].split(\",\")[1] # doc,pass -> [1]\n",
    "  if doc_passage in passage:\n",
    "    relevant.append(1)\n",
    "  else:\n",
    "    relevant.append(0)\n",
    "\n",
    "df_complete[\"label\"] = relevant\n",
    "qrel = df_complete[[\"QID\", \"docno\",\"label\"]]\n",
    "qrel.columns = ['qid', 'docno', 'label']\n",
    "qrel = qrel.astype({\"qid\": str, \"docno\": object, \"label\":object}) #qid en string pour pt.Experiment\n",
    "qrel"
   ]
  },
  {
   "cell_type": "markdown",
   "id": "b0cbfd70",
   "metadata": {},
   "source": [
    "# 2 - Analyse des données"
   ]
  },
  {
   "cell_type": "markdown",
   "id": "d00a2bdf",
   "metadata": {},
   "source": [
    "# 3 - Mesure de performances"
   ]
  },
  {
   "cell_type": "markdown",
   "id": "b8171df4",
   "metadata": {},
   "source": [
    "### 3a) Préprétraitement"
   ]
  },
  {
   "cell_type": "code",
   "execution_count": 12,
   "id": "eoQ95MrLMab8",
   "metadata": {
    "colab": {
     "base_uri": "https://localhost:8080/"
    },
    "id": "eoQ95MrLMab8",
    "outputId": "4c28676e-61bd-470e-f550-81abb79af751"
   },
   "outputs": [
    {
     "name": "stderr",
     "output_type": "stream",
     "text": [
      "[nltk_data] Downloading package punkt to /home/admpc/nltk_data...\n",
      "[nltk_data]   Package punkt is already up-to-date!\n",
      "[nltk_data] Downloading package wordnet to /home/admpc/nltk_data...\n",
      "[nltk_data]   Package wordnet is already up-to-date!\n",
      "[nltk_data] Downloading package stopwords to /home/admpc/nltk_data...\n",
      "[nltk_data]   Package stopwords is already up-to-date!\n"
     ]
    }
   ],
   "source": [
    "import string\n",
    "import re\n",
    "import nltk\n",
    "nltk.download('punkt')\n",
    "nltk.download('wordnet')\n",
    "from nltk.tokenize import word_tokenize\n",
    "nltk.download('stopwords')\n",
    "from nltk.corpus import stopwords\n",
    "from nltk.stem import SnowballStemmer\n",
    "\n",
    "\n",
    "def prepretraiter(query):\n",
    "    \"\"\"\n",
    "    Préprétraite une query\n",
    "    \"\"\"\n",
    "    #wn_lemmatizer = nltk.stem.WordNetLemmatizer()\n",
    "    stemmer = SnowballStemmer(\"english\")\n",
    "    stopwords_en = stopwords.words('english')\n",
    "    punc = string.punctuation\n",
    "    q_traite = []\n",
    "    for q in query:\n",
    "        q = q[0].lower()\n",
    "        q = q.translate(str.maketrans(punc, ' '*len(punc)))\n",
    "        q = word_tokenize(q)\n",
    "        q = ' '.join([w for w in q if w not in stopwords_en])\n",
    "        #q = ' '.join(map(lambda x: wn_lemmatizer.lemmatize(x), word_tokenize(q)))\n",
    "        q = ' '.join(map(lambda x: stemmer.stem(x), word_tokenize(q)))\n",
    "        q_traite.append(q)\n",
    "    return q_traite"
   ]
  },
  {
   "cell_type": "code",
   "execution_count": 13,
   "id": "e7e5ee78",
   "metadata": {},
   "outputs": [],
   "source": [
    "def applique_pretraite (df) :\n",
    "    \"\"\"\n",
    "    Applique le préprétraitement de query à un dataframe\n",
    "    \"\"\"\n",
    "    liste_query=df[['query']].values.tolist()\n",
    "    liste_query=prepretraiter(liste_query)\n",
    "    df['query']=liste_query\n",
    "    df = df.astype({\"qid\": str, \"query\": object})\n",
    "    \n",
    "    return df"
   ]
  },
  {
   "cell_type": "code",
   "execution_count": 14,
   "id": "e7a3c70b",
   "metadata": {},
   "outputs": [
    {
     "name": "stderr",
     "output_type": "stream",
     "text": [
      "/tmp/ipykernel_194884/2205331944.py:4: SettingWithCopyWarning: \n",
      "A value is trying to be set on a copy of a slice from a DataFrame.\n",
      "Try using .loc[row_indexer,col_indexer] = value instead\n",
      "\n",
      "See the caveats in the documentation: https://pandas.pydata.org/pandas-docs/stable/user_guide/indexing.html#returning-a-view-versus-a-copy\n",
      "  df['query']=liste_query\n",
      "/tmp/ipykernel_194884/2205331944.py:4: SettingWithCopyWarning: \n",
      "A value is trying to be set on a copy of a slice from a DataFrame.\n",
      "Try using .loc[row_indexer,col_indexer] = value instead\n",
      "\n",
      "See the caveats in the documentation: https://pandas.pydata.org/pandas-docs/stable/user_guide/indexing.html#returning-a-view-versus-a-copy\n",
      "  df['query']=liste_query\n",
      "/tmp/ipykernel_194884/2205331944.py:4: SettingWithCopyWarning: \n",
      "A value is trying to be set on a copy of a slice from a DataFrame.\n",
      "Try using .loc[row_indexer,col_indexer] = value instead\n",
      "\n",
      "See the caveats in the documentation: https://pandas.pydata.org/pandas-docs/stable/user_guide/indexing.html#returning-a-view-versus-a-copy\n",
      "  df['query']=liste_query\n"
     ]
    },
    {
     "data": {
      "text/html": [
       "<div>\n",
       "<style scoped>\n",
       "    .dataframe tbody tr th:only-of-type {\n",
       "        vertical-align: middle;\n",
       "    }\n",
       "\n",
       "    .dataframe tbody tr th {\n",
       "        vertical-align: top;\n",
       "    }\n",
       "\n",
       "    .dataframe thead th {\n",
       "        text-align: right;\n",
       "    }\n",
       "</style>\n",
       "<table border=\"1\" class=\"dataframe\">\n",
       "  <thead>\n",
       "    <tr style=\"text-align: right;\">\n",
       "      <th></th>\n",
       "      <th>qid</th>\n",
       "      <th>query</th>\n",
       "    </tr>\n",
       "  </thead>\n",
       "  <tbody>\n",
       "    <tr>\n",
       "      <th>0</th>\n",
       "      <td>449</td>\n",
       "      <td>iraq role polit unstabil</td>\n",
       "    </tr>\n",
       "    <tr>\n",
       "      <th>1</th>\n",
       "      <td>1140</td>\n",
       "      <td>warmest year global warm</td>\n",
       "    </tr>\n",
       "    <tr>\n",
       "      <th>2</th>\n",
       "      <td>782</td>\n",
       "      <td>olymp game broadcast</td>\n",
       "    </tr>\n",
       "    <tr>\n",
       "      <th>3</th>\n",
       "      <td>1421</td>\n",
       "      <td>elect turnout 2008</td>\n",
       "    </tr>\n",
       "    <tr>\n",
       "      <th>4</th>\n",
       "      <td>3738</td>\n",
       "      <td>secular misinterpret america</td>\n",
       "    </tr>\n",
       "    <tr>\n",
       "      <th>...</th>\n",
       "      <td>...</td>\n",
       "      <td>...</td>\n",
       "    </tr>\n",
       "    <tr>\n",
       "      <th>411</th>\n",
       "      <td>2522</td>\n",
       "      <td>church mean fallen natur</td>\n",
       "    </tr>\n",
       "    <tr>\n",
       "      <th>412</th>\n",
       "      <td>2851</td>\n",
       "      <td>histori eurasia</td>\n",
       "    </tr>\n",
       "    <tr>\n",
       "      <th>413</th>\n",
       "      <td>3705</td>\n",
       "      <td>nicknam missouri</td>\n",
       "    </tr>\n",
       "    <tr>\n",
       "      <th>414</th>\n",
       "      <td>799</td>\n",
       "      <td>endogloss exogloss languag coexist nigeria</td>\n",
       "    </tr>\n",
       "    <tr>\n",
       "      <th>415</th>\n",
       "      <td>232</td>\n",
       "      <td>drainag basin import ecolog</td>\n",
       "    </tr>\n",
       "  </tbody>\n",
       "</table>\n",
       "<p>416 rows × 2 columns</p>\n",
       "</div>"
      ],
      "text/plain": [
       "      qid                                       query\n",
       "0     449                    iraq role polit unstabil\n",
       "1    1140                    warmest year global warm\n",
       "2     782                        olymp game broadcast\n",
       "3    1421                          elect turnout 2008\n",
       "4    3738                secular misinterpret america\n",
       "..    ...                                         ...\n",
       "411  2522                    church mean fallen natur\n",
       "412  2851                             histori eurasia\n",
       "413  3705                            nicknam missouri\n",
       "414   799  endogloss exogloss languag coexist nigeria\n",
       "415   232                 drainag basin import ecolog\n",
       "\n",
       "[416 rows x 2 columns]"
      ]
     },
     "execution_count": 14,
     "metadata": {},
     "output_type": "execute_result"
    }
   ],
   "source": [
    "queries_train=applique_pretraite(queries_train)\n",
    "queries_test=applique_pretraite(queries_test)\n",
    "queries_dev=applique_pretraite(queries_dev)\n",
    "\n",
    "queries_test"
   ]
  },
  {
   "cell_type": "markdown",
   "id": "9369510d",
   "metadata": {},
   "source": [
    "### 3b) Apprentissage\n"
   ]
  },
  {
   "cell_type": "markdown",
   "id": "22239076",
   "metadata": {},
   "source": [
    "BM25 :"
   ]
  },
  {
   "cell_type": "code",
   "execution_count": 25,
   "id": "c3118049",
   "metadata": {},
   "outputs": [
    {
     "name": "stderr",
     "output_type": "stream",
     "text": [
      "/home/admpc/.local/lib/python3.10/site-packages/pyterrier/batchretrieve.py:307: UserWarning: Skipping empty query for qid 4148\n",
      "  warn(\"Skipping empty query for qid %s\" % qid)\n",
      "/home/admpc/.local/lib/python3.10/site-packages/pyterrier/batchretrieve.py:307: UserWarning: Skipping empty query for qid 1315\n",
      "  warn(\"Skipping empty query for qid %s\" % qid)\n",
      "/home/admpc/.local/lib/python3.10/site-packages/pyterrier/batchretrieve.py:307: UserWarning: Skipping empty query for qid 4148\n",
      "  warn(\"Skipping empty query for qid %s\" % qid)\n",
      "/home/admpc/.local/lib/python3.10/site-packages/pyterrier/batchretrieve.py:307: UserWarning: Skipping empty query for qid 1315\n",
      "  warn(\"Skipping empty query for qid %s\" % qid)\n",
      "/home/admpc/.local/lib/python3.10/site-packages/pyterrier/batchretrieve.py:307: UserWarning: Skipping empty query for qid 4148\n",
      "  warn(\"Skipping empty query for qid %s\" % qid)\n"
     ]
    },
    {
     "ename": "KeyboardInterrupt",
     "evalue": "",
     "output_type": "error",
     "traceback": [
      "\u001b[0;31m---------------------------------------------------------------------------\u001b[0m",
      "\u001b[0;31mKeyboardInterrupt\u001b[0m                         Traceback (most recent call last)",
      "Cell \u001b[0;32mIn [25], line 2\u001b[0m\n\u001b[1;32m      1\u001b[0m bm25 \u001b[38;5;241m=\u001b[39m pt\u001b[38;5;241m.\u001b[39mBatchRetrieve(index, wmodel\u001b[38;5;241m=\u001b[39m\u001b[38;5;124m\"\u001b[39m\u001b[38;5;124mBM25\u001b[39m\u001b[38;5;124m\"\u001b[39m, controls\u001b[38;5;241m=\u001b[39m{\u001b[38;5;124m\"\u001b[39m\u001b[38;5;124mbm25.b\u001b[39m\u001b[38;5;124m\"\u001b[39m : \u001b[38;5;241m0.75\u001b[39m, \u001b[38;5;124m\"\u001b[39m\u001b[38;5;124mbm25.k_1\u001b[39m\u001b[38;5;124m\"\u001b[39m: \u001b[38;5;241m0.75\u001b[39m, \u001b[38;5;124m\"\u001b[39m\u001b[38;5;124mbm25.k_3\u001b[39m\u001b[38;5;124m\"\u001b[39m: \u001b[38;5;241m0.75\u001b[39m})\n\u001b[0;32m----> 2\u001b[0m \u001b[43mpt\u001b[49m\u001b[38;5;241;43m.\u001b[39;49m\u001b[43mGridSearch\u001b[49m\u001b[43m(\u001b[49m\n\u001b[1;32m      3\u001b[0m \u001b[43m    \u001b[49m\u001b[43mbm25\u001b[49m\u001b[43m,\u001b[49m\n\u001b[1;32m      4\u001b[0m \u001b[43m    \u001b[49m\u001b[43m{\u001b[49m\u001b[43mbm25\u001b[49m\u001b[43m:\u001b[49m\u001b[43m \u001b[49m\u001b[43m{\u001b[49m\u001b[38;5;124;43m\"\u001b[39;49m\u001b[38;5;124;43mbm25.b\u001b[39;49m\u001b[38;5;124;43m\"\u001b[39;49m\u001b[43m  \u001b[49m\u001b[43m:\u001b[49m\u001b[43m \u001b[49m\u001b[43m[\u001b[49m\u001b[38;5;241;43m0\u001b[39;49m\u001b[43m,\u001b[49m\u001b[43m \u001b[49m\u001b[38;5;241;43m0.1\u001b[39;49m\u001b[43m,\u001b[49m\u001b[43m \u001b[49m\u001b[38;5;241;43m0.2\u001b[39;49m\u001b[43m,\u001b[49m\u001b[43m \u001b[49m\u001b[38;5;241;43m0.3\u001b[39;49m\u001b[43m,\u001b[49m\u001b[43m \u001b[49m\u001b[38;5;241;43m0.4\u001b[39;49m\u001b[43m,\u001b[49m\u001b[43m \u001b[49m\u001b[38;5;241;43m0.5\u001b[39;49m\u001b[43m,\u001b[49m\u001b[43m \u001b[49m\u001b[38;5;241;43m0.6\u001b[39;49m\u001b[43m,\u001b[49m\u001b[43m \u001b[49m\u001b[38;5;241;43m0.7\u001b[39;49m\u001b[43m,\u001b[49m\u001b[43m \u001b[49m\u001b[38;5;241;43m0.8\u001b[39;49m\u001b[43m,\u001b[49m\u001b[43m \u001b[49m\u001b[38;5;241;43m0.9\u001b[39;49m\u001b[43m,\u001b[49m\u001b[43m \u001b[49m\u001b[38;5;241;43m1\u001b[39;49m\u001b[43m \u001b[49m\u001b[43m]\u001b[49m\u001b[38;5;66;43;03m#,\u001b[39;49;00m\n\u001b[1;32m      5\u001b[0m \u001b[43m            \u001b[49m\u001b[38;5;66;43;03m#\"bm25.k_1\": [0.3, 0.6, 0.9, 1.2, 1.4, 1.6, 2],\u001b[39;49;00m\n\u001b[1;32m      6\u001b[0m \u001b[43m            \u001b[49m\u001b[38;5;66;43;03m#\"bm25.k_3\": [0.5, 2, 4, 6, 8, 10, 12, 14, 20]\u001b[39;49;00m\n\u001b[1;32m      7\u001b[0m \u001b[43m    \u001b[49m\u001b[43m}\u001b[49m\u001b[43m}\u001b[49m\u001b[43m,\u001b[49m\n\u001b[1;32m      8\u001b[0m \u001b[43m    \u001b[49m\u001b[43mqueries_train\u001b[49m\u001b[43m,\u001b[49m\n\u001b[1;32m      9\u001b[0m \u001b[43m    \u001b[49m\u001b[43mqrel\u001b[49m\u001b[43m,\u001b[49m\n\u001b[1;32m     10\u001b[0m \u001b[43m    \u001b[49m\u001b[38;5;124;43m\"\u001b[39;49m\u001b[38;5;124;43mmap\u001b[39;49m\u001b[38;5;124;43m\"\u001b[39;49m\u001b[43m)\u001b[49m\n",
      "File \u001b[0;32m~/.local/lib/python3.10/site-packages/pyterrier/pipelines.py:715\u001b[0m, in \u001b[0;36mGridSearch\u001b[0;34m(pipeline, params, topics, qrels, metric, jobs, backend, verbose, batch_size, return_type)\u001b[0m\n\u001b[1;32m    712\u001b[0m \u001b[38;5;28;01mif\u001b[39;00m \u001b[38;5;28misinstance\u001b[39m(metric, \u001b[38;5;28mlist\u001b[39m):\n\u001b[1;32m    713\u001b[0m     \u001b[38;5;28;01mraise\u001b[39;00m \u001b[38;5;167;01mKeyError\u001b[39;00m(\u001b[38;5;124m\"\u001b[39m\u001b[38;5;124mGridSearch can only maximise ONE metric, but you passed a list (\u001b[39m\u001b[38;5;132;01m%s\u001b[39;00m\u001b[38;5;124m).\u001b[39m\u001b[38;5;124m\"\u001b[39m \u001b[38;5;241m%\u001b[39m \u001b[38;5;28mstr\u001b[39m(metric))\n\u001b[0;32m--> 715\u001b[0m grid_outcomes \u001b[38;5;241m=\u001b[39m \u001b[43mGridScan\u001b[49m\u001b[43m(\u001b[49m\n\u001b[1;32m    716\u001b[0m \u001b[43m    \u001b[49m\u001b[43mpipeline\u001b[49m\u001b[43m,\u001b[49m\u001b[43m \u001b[49m\n\u001b[1;32m    717\u001b[0m \u001b[43m    \u001b[49m\u001b[43mparams\u001b[49m\u001b[43m,\u001b[49m\u001b[43m \u001b[49m\n\u001b[1;32m    718\u001b[0m \u001b[43m    \u001b[49m\u001b[43mtopics\u001b[49m\u001b[43m,\u001b[49m\u001b[43m \u001b[49m\n\u001b[1;32m    719\u001b[0m \u001b[43m    \u001b[49m\u001b[43mqrels\u001b[49m\u001b[43m,\u001b[49m\u001b[43m \u001b[49m\n\u001b[1;32m    720\u001b[0m \u001b[43m    \u001b[49m\u001b[43m[\u001b[49m\u001b[43mmetric\u001b[49m\u001b[43m]\u001b[49m\u001b[43m,\u001b[49m\u001b[43m \u001b[49m\n\u001b[1;32m    721\u001b[0m \u001b[43m    \u001b[49m\u001b[43mjobs\u001b[49m\u001b[43m,\u001b[49m\u001b[43m \u001b[49m\n\u001b[1;32m    722\u001b[0m \u001b[43m    \u001b[49m\u001b[43mbackend\u001b[49m\u001b[43m,\u001b[49m\u001b[43m \u001b[49m\n\u001b[1;32m    723\u001b[0m \u001b[43m    \u001b[49m\u001b[43mverbose\u001b[49m\u001b[43m,\u001b[49m\u001b[43m \u001b[49m\n\u001b[1;32m    724\u001b[0m \u001b[43m    \u001b[49m\u001b[43mbatch_size\u001b[49m\u001b[43m,\u001b[49m\u001b[43m \u001b[49m\n\u001b[1;32m    725\u001b[0m \u001b[43m    \u001b[49m\u001b[43mdataframe\u001b[49m\u001b[38;5;241;43m=\u001b[39;49m\u001b[38;5;28;43;01mFalse\u001b[39;49;00m\u001b[43m)\u001b[49m\n\u001b[1;32m    727\u001b[0m \u001b[38;5;28;01massert\u001b[39;00m \u001b[38;5;28mlen\u001b[39m(grid_outcomes) \u001b[38;5;241m>\u001b[39m \u001b[38;5;241m0\u001b[39m, \u001b[38;5;124m\"\u001b[39m\u001b[38;5;124mGridScan returned 0 rows\u001b[39m\u001b[38;5;124m\"\u001b[39m\n\u001b[1;32m    728\u001b[0m max_measure \u001b[38;5;241m=\u001b[39m grid_outcomes[\u001b[38;5;241m0\u001b[39m][\u001b[38;5;241m1\u001b[39m][metric]\n",
      "File \u001b[0;32m~/.local/lib/python3.10/site-packages/pyterrier/pipelines.py:855\u001b[0m, in \u001b[0;36mGridScan\u001b[0;34m(pipeline, params, topics, qrels, metrics, jobs, backend, verbose, batch_size, dataframe)\u001b[0m\n\u001b[1;32m    853\u001b[0m \u001b[38;5;28;01mif\u001b[39;00m jobs \u001b[38;5;241m==\u001b[39m \u001b[38;5;241m1\u001b[39m:\n\u001b[1;32m    854\u001b[0m     \u001b[38;5;28;01mfor\u001b[39;00m v \u001b[38;5;129;01min\u001b[39;00m tqdm(combinations, total\u001b[38;5;241m=\u001b[39m\u001b[38;5;28mlen\u001b[39m(combinations), desc\u001b[38;5;241m=\u001b[39m\u001b[38;5;124m\"\u001b[39m\u001b[38;5;124mGridScan\u001b[39m\u001b[38;5;124m\"\u001b[39m, mininterval\u001b[38;5;241m=\u001b[39m\u001b[38;5;241m0.3\u001b[39m) \u001b[38;5;28;01mif\u001b[39;00m verbose \u001b[38;5;28;01melse\u001b[39;00m combinations:\n\u001b[0;32m--> 855\u001b[0m         parameter_list, eval_scores \u001b[38;5;241m=\u001b[39m \u001b[43m_evaluate_one_setting\u001b[49m\u001b[43m(\u001b[49m\u001b[43mkeys\u001b[49m\u001b[43m,\u001b[49m\u001b[43m \u001b[49m\u001b[43mv\u001b[49m\u001b[43m)\u001b[49m\n\u001b[1;32m    856\u001b[0m         eval_list\u001b[38;5;241m.\u001b[39mappend( (parameter_list, eval_scores) )\n\u001b[1;32m    857\u001b[0m \u001b[38;5;28;01melse\u001b[39;00m:\n",
      "File \u001b[0;32m~/.local/lib/python3.10/site-packages/pyterrier/pipelines.py:845\u001b[0m, in \u001b[0;36mGridScan.<locals>._evaluate_one_setting\u001b[0;34m(keys, values)\u001b[0m\n\u001b[1;32m    842\u001b[0m     \u001b[38;5;66;03m# such as (BatchRetrieve, 'wmodel', 'BM25')\u001b[39;00m\n\u001b[1;32m    843\u001b[0m     parameter_list\u001b[38;5;241m.\u001b[39mappend( (tran, param_name, value) )\n\u001b[0;32m--> 845\u001b[0m time, eval_scores \u001b[38;5;241m=\u001b[39m \u001b[43m_run_and_evaluate\u001b[49m\u001b[43m(\u001b[49m\u001b[43mpipeline\u001b[49m\u001b[43m,\u001b[49m\u001b[43m \u001b[49m\u001b[43mtopics\u001b[49m\u001b[43m,\u001b[49m\u001b[43m \u001b[49m\u001b[43mqrels\u001b[49m\u001b[43m,\u001b[49m\u001b[43m \u001b[49m\u001b[43mmetrics\u001b[49m\u001b[43m,\u001b[49m\u001b[43m \u001b[49m\u001b[43mperquery\u001b[49m\u001b[38;5;241;43m=\u001b[39;49m\u001b[38;5;28;43;01mFalse\u001b[39;49;00m\u001b[43m,\u001b[49m\u001b[43m \u001b[49m\u001b[43mbatch_size\u001b[49m\u001b[38;5;241;43m=\u001b[39;49m\u001b[43mbatch_size\u001b[49m\u001b[43m)\u001b[49m\n\u001b[1;32m    846\u001b[0m \u001b[38;5;28;01mreturn\u001b[39;00m parameter_list, eval_scores\n",
      "File \u001b[0;32m~/.local/lib/python3.10/site-packages/pyterrier/pipelines.py:170\u001b[0m, in \u001b[0;36m_run_and_evaluate\u001b[0;34m(system, topics, qrels, metrics, pbar, save_mode, save_file, perquery, batch_size, backfill_qids)\u001b[0m\n\u001b[1;32m    166\u001b[0m \u001b[38;5;28;01melif\u001b[39;00m batch_size \u001b[38;5;129;01mis\u001b[39;00m \u001b[38;5;28;01mNone\u001b[39;00m:\n\u001b[1;32m    167\u001b[0m     \u001b[38;5;66;03m#transformer, evaluate all queries at once\u001b[39;00m\n\u001b[1;32m    169\u001b[0m     starttime \u001b[38;5;241m=\u001b[39m timer()\n\u001b[0;32m--> 170\u001b[0m     res \u001b[38;5;241m=\u001b[39m \u001b[43msystem\u001b[49m\u001b[38;5;241;43m.\u001b[39;49m\u001b[43mtransform\u001b[49m\u001b[43m(\u001b[49m\u001b[43mtopics\u001b[49m\u001b[43m)\u001b[49m\n\u001b[1;32m    171\u001b[0m     endtime \u001b[38;5;241m=\u001b[39m timer()\n\u001b[1;32m    172\u001b[0m     runtime \u001b[38;5;241m=\u001b[39m  (endtime \u001b[38;5;241m-\u001b[39m starttime) \u001b[38;5;241m*\u001b[39m \u001b[38;5;241m1000.\u001b[39m\n",
      "File \u001b[0;32m~/.local/lib/python3.10/site-packages/pyterrier/batchretrieve.py:441\u001b[0m, in \u001b[0;36mBatchRetrieve.transform\u001b[0;34m(self, queries)\u001b[0m\n\u001b[1;32m    439\u001b[0m         \u001b[38;5;28miter\u001b[39m \u001b[38;5;241m=\u001b[39m tqdm(\u001b[38;5;28miter\u001b[39m, desc\u001b[38;5;241m=\u001b[39m\u001b[38;5;28mstr\u001b[39m(\u001b[38;5;28mself\u001b[39m), total\u001b[38;5;241m=\u001b[39mqueries\u001b[38;5;241m.\u001b[39mshape[\u001b[38;5;241m0\u001b[39m], unit\u001b[38;5;241m=\u001b[39m\u001b[38;5;124m\"\u001b[39m\u001b[38;5;124mq\u001b[39m\u001b[38;5;124m\"\u001b[39m)\n\u001b[1;32m    440\u001b[0m     \u001b[38;5;28;01mfor\u001b[39;00m row \u001b[38;5;129;01min\u001b[39;00m \u001b[38;5;28miter\u001b[39m:\n\u001b[0;32m--> 441\u001b[0m         res \u001b[38;5;241m=\u001b[39m \u001b[38;5;28;43mself\u001b[39;49m\u001b[38;5;241;43m.\u001b[39;49m\u001b[43m_retrieve_one\u001b[49m\u001b[43m(\u001b[49m\u001b[43mrow\u001b[49m\u001b[43m,\u001b[49m\u001b[43m \u001b[49m\u001b[43minput_results\u001b[49m\u001b[43m,\u001b[49m\u001b[43m \u001b[49m\u001b[43mdocno_provided\u001b[49m\u001b[38;5;241;43m=\u001b[39;49m\u001b[43mdocno_provided\u001b[49m\u001b[43m,\u001b[49m\u001b[43m \u001b[49m\u001b[43mdocid_provided\u001b[49m\u001b[38;5;241;43m=\u001b[39;49m\u001b[43mdocid_provided\u001b[49m\u001b[43m,\u001b[49m\u001b[43m \u001b[49m\u001b[43mscores_provided\u001b[49m\u001b[38;5;241;43m=\u001b[39;49m\u001b[43mscores_provided\u001b[49m\u001b[43m)\u001b[49m\n\u001b[1;32m    442\u001b[0m         results\u001b[38;5;241m.\u001b[39mextend(res)\n\u001b[1;32m    444\u001b[0m res_dt \u001b[38;5;241m=\u001b[39m pd\u001b[38;5;241m.\u001b[39mDataFrame(results, columns\u001b[38;5;241m=\u001b[39m[\u001b[38;5;124m'\u001b[39m\u001b[38;5;124mqid\u001b[39m\u001b[38;5;124m'\u001b[39m, \u001b[38;5;124m'\u001b[39m\u001b[38;5;124mdocid\u001b[39m\u001b[38;5;124m'\u001b[39m ] \u001b[38;5;241m+\u001b[39m \u001b[38;5;28mself\u001b[39m\u001b[38;5;241m.\u001b[39mmetadata \u001b[38;5;241m+\u001b[39m [\u001b[38;5;124m'\u001b[39m\u001b[38;5;124mrank\u001b[39m\u001b[38;5;124m'\u001b[39m, \u001b[38;5;124m'\u001b[39m\u001b[38;5;124mscore\u001b[39m\u001b[38;5;124m'\u001b[39m])\n",
      "File \u001b[0;32m~/.local/lib/python3.10/site-packages/pyterrier/batchretrieve.py:365\u001b[0m, in \u001b[0;36mBatchRetrieve._retrieve_one\u001b[0;34m(self, row, input_results, docno_provided, docid_provided, scores_provided)\u001b[0m\n\u001b[1;32m    363\u001b[0m rtr_rows\u001b[38;5;241m=\u001b[39m[]\n\u001b[1;32m    364\u001b[0m \u001b[38;5;66;03m# prepare the dataframe for the results of the query\u001b[39;00m\n\u001b[0;32m--> 365\u001b[0m \u001b[38;5;28;01mfor\u001b[39;00m item \u001b[38;5;129;01min\u001b[39;00m result:\n\u001b[1;32m    366\u001b[0m     metadata_list \u001b[38;5;241m=\u001b[39m []\n\u001b[1;32m    367\u001b[0m     \u001b[38;5;28;01mfor\u001b[39;00m meta_column \u001b[38;5;129;01min\u001b[39;00m \u001b[38;5;28mself\u001b[39m\u001b[38;5;241m.\u001b[39mmetadata:\n",
      "File \u001b[0;32m~/.local/lib/python3.10/site-packages/jnius/reflect.py:413\u001b[0m, in \u001b[0;36m_iterator_next\u001b[0;34m(self)\u001b[0m\n\u001b[1;32m    410\u001b[0m \u001b[38;5;28;01mif\u001b[39;00m \u001b[38;5;129;01mnot\u001b[39;00m \u001b[38;5;28mself\u001b[39m\u001b[38;5;241m.\u001b[39mhasNext():\n\u001b[1;32m    411\u001b[0m     \u001b[38;5;28;01mraise\u001b[39;00m \u001b[38;5;167;01mStopIteration\u001b[39;00m()\n\u001b[0;32m--> 413\u001b[0m \u001b[38;5;28;01mreturn\u001b[39;00m \u001b[38;5;28;43mself\u001b[39;49m\u001b[38;5;241;43m.\u001b[39;49m\u001b[43mnext\u001b[49m\u001b[43m(\u001b[49m\u001b[43m)\u001b[49m\n",
      "File \u001b[0;32mjnius/jnius_export_class.pxi:885\u001b[0m, in \u001b[0;36mjnius.JavaMethod.__call__\u001b[0;34m()\u001b[0m\n",
      "File \u001b[0;32mjnius/jnius_export_class.pxi:967\u001b[0m, in \u001b[0;36mjnius.JavaMethod.call_method\u001b[0;34m()\u001b[0m\n",
      "File \u001b[0;32mjnius/jnius_conversion.pxi:240\u001b[0m, in \u001b[0;36mjnius.convert_jobject_to_python\u001b[0;34m()\u001b[0m\n",
      "File \u001b[0;32m~/.local/lib/python3.10/site-packages/jnius/reflect.py:201\u001b[0m, in \u001b[0;36mautoclass\u001b[0;34m(clsname, include_protected, include_private)\u001b[0m\n\u001b[1;32m    195\u001b[0m     \u001b[38;5;28;01myield\u001b[39;00m \u001b[38;5;28mcls\u001b[39m, level\n\u001b[1;32m    198\u001b[0m \u001b[38;5;66;03m# NOTE: if you change the include_protected or include_private default values,\u001b[39;00m\n\u001b[1;32m    199\u001b[0m \u001b[38;5;66;03m# you also must change the classparams default value in MetaJavaClass.__new__\u001b[39;00m\n\u001b[1;32m    200\u001b[0m \u001b[38;5;66;03m# and MetaJavaClass.get_javaclass.\u001b[39;00m\n\u001b[0;32m--> 201\u001b[0m \u001b[38;5;28;01mdef\u001b[39;00m \u001b[38;5;21mautoclass\u001b[39m(clsname, include_protected\u001b[38;5;241m=\u001b[39m\u001b[38;5;28;01mTrue\u001b[39;00m, include_private\u001b[38;5;241m=\u001b[39m\u001b[38;5;28;01mTrue\u001b[39;00m):\n\u001b[1;32m    202\u001b[0m     jniname \u001b[38;5;241m=\u001b[39m clsname\u001b[38;5;241m.\u001b[39mreplace(\u001b[38;5;124m'\u001b[39m\u001b[38;5;124m.\u001b[39m\u001b[38;5;124m'\u001b[39m, \u001b[38;5;124m'\u001b[39m\u001b[38;5;124m/\u001b[39m\u001b[38;5;124m'\u001b[39m)\n\u001b[1;32m    203\u001b[0m     \u001b[38;5;28mcls\u001b[39m \u001b[38;5;241m=\u001b[39m MetaJavaClass\u001b[38;5;241m.\u001b[39mget_javaclass(jniname, classparams\u001b[38;5;241m=\u001b[39m(include_protected, include_private))\n",
      "\u001b[0;31mKeyboardInterrupt\u001b[0m: "
     ]
    }
   ],
   "source": [
    "bm25 = pt.BatchRetrieve(index, wmodel=\"BM25\", controls={\"bm25.b\" : 0.75, \"bm25.k_1\": 0.75, \"bm25.k_3\": 0.75})\n",
    "pt.GridSearch(\n",
    "    bm25,\n",
    "    {bm25: {\"bm25.b\"  : [0, 0.1, 0.2, 0.3, 0.4, 0.5, 0.6, 0.7, 0.8, 0.9, 1 ],\n",
    "            \"bm25.k_1\": [0.3, 0.6, 0.9, 1.2, 1.4, 1.6, 2],\n",
    "            \"bm25.k_3\": [0.5, 2, 4, 6, 8, 10, 12, 14, 20]\n",
    "    }},\n",
    "    queries_train,\n",
    "    qrel,\n",
    "    \"map\")"
   ]
  },
  {
   "cell_type": "markdown",
   "id": "Pjyl714leKPV",
   "metadata": {
    "id": "Pjyl714leKPV"
   },
   "source": [
    "### 3c) Mesures"
   ]
  },
  {
   "cell_type": "code",
   "execution_count": null,
   "id": "OMn3DI5oeJlf",
   "metadata": {
    "colab": {
     "base_uri": "https://localhost:8080/",
     "height": 238,
     "referenced_widgets": [
      "3a0dfab06f3a45e89f0f6aafaea9f5f6",
      "5754d4e1923840e0afb653d2e52af9a9",
      "90757349af7245efa8baaa33363af770",
      "94e8602ff5934a5288ee4f552bf60834",
      "0370e77e6fa4461cbe2672ee98ab4910",
      "ca41f77e45904defb98bd6c5f2465c94",
      "db648aed5a1b4434b662b81aa5c87695",
      "2c862555afb041fb8f386296a3c25141",
      "69cccb8d05a349a48ee0e738c25e2596",
      "a42a0c0879a94983a7749ccfcfdb6ed9",
      "751726fb875d4e5b80e8a9d8c0d6d0b3"
     ]
    },
    "id": "OMn3DI5oeJlf",
    "outputId": "364f1fe2-7838-4214-f9ef-621dbff53d5c"
   },
   "outputs": [],
   "source": [
    "wc = pt.BatchRetrieve(index, wmodel=\"Tf\")\n",
    "wc_idf = pt.BatchRetrieve(index, wmodel=\"TF_IDF\", norm = None)\n",
    "tf_idf = pt.BatchRetrieve(index, wmodel=\"TF_IDF\")\n",
    "ql = pt.BatchRetrieve(index, wmodel=\"DirichletLM\")\n",
    "\n",
    "\n",
    "pt.Experiment(\n",
    "    [wc, wc_idf, tf_idf, bm25, ql],\n",
    "    queries_test,\n",
    "    qrel,\n",
    "    eval_metrics=[\"map\", \"recip_rank\", \"P_5\",\"P_10\",\"ndcg\", \"recall_5\", \"recall_10\", \"recall_20\" ],\n",
    "    names = [\"WC\", \"WC.IDF\", \"VSM\", \"BM25\", \"QL\"]\n",
    ")"
   ]
  },
  {
   "cell_type": "code",
   "execution_count": null,
   "id": "e804b7a1",
   "metadata": {},
   "outputs": [],
   "source": []
  },
  {
   "cell_type": "code",
   "execution_count": null,
   "id": "55b0f594",
   "metadata": {},
   "outputs": [],
   "source": []
  }
 ],
 "metadata": {
  "colab": {
   "provenance": []
  },
  "kernelspec": {
   "display_name": "Python 3 (ipykernel)",
   "language": "python",
   "name": "python3"
  },
  "language_info": {
   "codemirror_mode": {
    "name": "ipython",
    "version": 3
   },
   "file_extension": ".py",
   "mimetype": "text/x-python",
   "name": "python",
   "nbconvert_exporter": "python",
   "pygments_lexer": "ipython3",
   "version": "3.10.6"
  },
  "widgets": {
   "application/vnd.jupyter.widget-state+json": {
    "0370e77e6fa4461cbe2672ee98ab4910": {
     "model_module": "@jupyter-widgets/base",
     "model_module_version": "1.2.0",
     "model_name": "LayoutModel",
     "state": {
      "_model_module": "@jupyter-widgets/base",
      "_model_module_version": "1.2.0",
      "_model_name": "LayoutModel",
      "_view_count": null,
      "_view_module": "@jupyter-widgets/base",
      "_view_module_version": "1.2.0",
      "_view_name": "LayoutView",
      "align_content": null,
      "align_items": null,
      "align_self": null,
      "border": null,
      "bottom": null,
      "display": null,
      "flex": null,
      "flex_flow": null,
      "grid_area": null,
      "grid_auto_columns": null,
      "grid_auto_flow": null,
      "grid_auto_rows": null,
      "grid_column": null,
      "grid_gap": null,
      "grid_row": null,
      "grid_template_areas": null,
      "grid_template_columns": null,
      "grid_template_rows": null,
      "height": null,
      "justify_content": null,
      "justify_items": null,
      "left": null,
      "margin": null,
      "max_height": null,
      "max_width": null,
      "min_height": null,
      "min_width": null,
      "object_fit": null,
      "object_position": null,
      "order": null,
      "overflow": null,
      "overflow_x": null,
      "overflow_y": null,
      "padding": null,
      "right": null,
      "top": null,
      "visibility": null,
      "width": null
     }
    },
    "2c862555afb041fb8f386296a3c25141": {
     "model_module": "@jupyter-widgets/base",
     "model_module_version": "1.2.0",
     "model_name": "LayoutModel",
     "state": {
      "_model_module": "@jupyter-widgets/base",
      "_model_module_version": "1.2.0",
      "_model_name": "LayoutModel",
      "_view_count": null,
      "_view_module": "@jupyter-widgets/base",
      "_view_module_version": "1.2.0",
      "_view_name": "LayoutView",
      "align_content": null,
      "align_items": null,
      "align_self": null,
      "border": null,
      "bottom": null,
      "display": null,
      "flex": null,
      "flex_flow": null,
      "grid_area": null,
      "grid_auto_columns": null,
      "grid_auto_flow": null,
      "grid_auto_rows": null,
      "grid_column": null,
      "grid_gap": null,
      "grid_row": null,
      "grid_template_areas": null,
      "grid_template_columns": null,
      "grid_template_rows": null,
      "height": null,
      "justify_content": null,
      "justify_items": null,
      "left": null,
      "margin": null,
      "max_height": null,
      "max_width": null,
      "min_height": null,
      "min_width": null,
      "object_fit": null,
      "object_position": null,
      "order": null,
      "overflow": null,
      "overflow_x": null,
      "overflow_y": null,
      "padding": null,
      "right": null,
      "top": null,
      "visibility": null,
      "width": null
     }
    },
    "3a0dfab06f3a45e89f0f6aafaea9f5f6": {
     "model_module": "@jupyter-widgets/controls",
     "model_module_version": "1.5.0",
     "model_name": "HBoxModel",
     "state": {
      "_dom_classes": [],
      "_model_module": "@jupyter-widgets/controls",
      "_model_module_version": "1.5.0",
      "_model_name": "HBoxModel",
      "_view_count": null,
      "_view_module": "@jupyter-widgets/controls",
      "_view_module_version": "1.5.0",
      "_view_name": "HBoxView",
      "box_style": "",
      "children": [
       "IPY_MODEL_5754d4e1923840e0afb653d2e52af9a9",
       "IPY_MODEL_90757349af7245efa8baaa33363af770",
       "IPY_MODEL_94e8602ff5934a5288ee4f552bf60834"
      ],
      "layout": "IPY_MODEL_0370e77e6fa4461cbe2672ee98ab4910"
     }
    },
    "5754d4e1923840e0afb653d2e52af9a9": {
     "model_module": "@jupyter-widgets/controls",
     "model_module_version": "1.5.0",
     "model_name": "HTMLModel",
     "state": {
      "_dom_classes": [],
      "_model_module": "@jupyter-widgets/controls",
      "_model_module_version": "1.5.0",
      "_model_name": "HTMLModel",
      "_view_count": null,
      "_view_module": "@jupyter-widgets/controls",
      "_view_module_version": "1.5.0",
      "_view_name": "HTMLView",
      "description": "",
      "description_tooltip": null,
      "layout": "IPY_MODEL_ca41f77e45904defb98bd6c5f2465c94",
      "placeholder": "​",
      "style": "IPY_MODEL_db648aed5a1b4434b662b81aa5c87695",
      "value": "BR(TF_IDF): 100%"
     }
    },
    "69cccb8d05a349a48ee0e738c25e2596": {
     "model_module": "@jupyter-widgets/controls",
     "model_module_version": "1.5.0",
     "model_name": "ProgressStyleModel",
     "state": {
      "_model_module": "@jupyter-widgets/controls",
      "_model_module_version": "1.5.0",
      "_model_name": "ProgressStyleModel",
      "_view_count": null,
      "_view_module": "@jupyter-widgets/base",
      "_view_module_version": "1.2.0",
      "_view_name": "StyleView",
      "bar_color": null,
      "description_width": ""
     }
    },
    "751726fb875d4e5b80e8a9d8c0d6d0b3": {
     "model_module": "@jupyter-widgets/controls",
     "model_module_version": "1.5.0",
     "model_name": "DescriptionStyleModel",
     "state": {
      "_model_module": "@jupyter-widgets/controls",
      "_model_module_version": "1.5.0",
      "_model_name": "DescriptionStyleModel",
      "_view_count": null,
      "_view_module": "@jupyter-widgets/base",
      "_view_module_version": "1.2.0",
      "_view_name": "StyleView",
      "description_width": ""
     }
    },
    "90757349af7245efa8baaa33363af770": {
     "model_module": "@jupyter-widgets/controls",
     "model_module_version": "1.5.0",
     "model_name": "FloatProgressModel",
     "state": {
      "_dom_classes": [],
      "_model_module": "@jupyter-widgets/controls",
      "_model_module_version": "1.5.0",
      "_model_name": "FloatProgressModel",
      "_view_count": null,
      "_view_module": "@jupyter-widgets/controls",
      "_view_module_version": "1.5.0",
      "_view_name": "ProgressView",
      "bar_style": "success",
      "description": "",
      "description_tooltip": null,
      "layout": "IPY_MODEL_2c862555afb041fb8f386296a3c25141",
      "max": 416,
      "min": 0,
      "orientation": "horizontal",
      "style": "IPY_MODEL_69cccb8d05a349a48ee0e738c25e2596",
      "value": 416
     }
    },
    "94e8602ff5934a5288ee4f552bf60834": {
     "model_module": "@jupyter-widgets/controls",
     "model_module_version": "1.5.0",
     "model_name": "HTMLModel",
     "state": {
      "_dom_classes": [],
      "_model_module": "@jupyter-widgets/controls",
      "_model_module_version": "1.5.0",
      "_model_name": "HTMLModel",
      "_view_count": null,
      "_view_module": "@jupyter-widgets/controls",
      "_view_module_version": "1.5.0",
      "_view_name": "HTMLView",
      "description": "",
      "description_tooltip": null,
      "layout": "IPY_MODEL_a42a0c0879a94983a7749ccfcfdb6ed9",
      "placeholder": "​",
      "style": "IPY_MODEL_751726fb875d4e5b80e8a9d8c0d6d0b3",
      "value": " 416/416 [00:12&lt;00:00, 44.88q/s]"
     }
    },
    "a42a0c0879a94983a7749ccfcfdb6ed9": {
     "model_module": "@jupyter-widgets/base",
     "model_module_version": "1.2.0",
     "model_name": "LayoutModel",
     "state": {
      "_model_module": "@jupyter-widgets/base",
      "_model_module_version": "1.2.0",
      "_model_name": "LayoutModel",
      "_view_count": null,
      "_view_module": "@jupyter-widgets/base",
      "_view_module_version": "1.2.0",
      "_view_name": "LayoutView",
      "align_content": null,
      "align_items": null,
      "align_self": null,
      "border": null,
      "bottom": null,
      "display": null,
      "flex": null,
      "flex_flow": null,
      "grid_area": null,
      "grid_auto_columns": null,
      "grid_auto_flow": null,
      "grid_auto_rows": null,
      "grid_column": null,
      "grid_gap": null,
      "grid_row": null,
      "grid_template_areas": null,
      "grid_template_columns": null,
      "grid_template_rows": null,
      "height": null,
      "justify_content": null,
      "justify_items": null,
      "left": null,
      "margin": null,
      "max_height": null,
      "max_width": null,
      "min_height": null,
      "min_width": null,
      "object_fit": null,
      "object_position": null,
      "order": null,
      "overflow": null,
      "overflow_x": null,
      "overflow_y": null,
      "padding": null,
      "right": null,
      "top": null,
      "visibility": null,
      "width": null
     }
    },
    "ca41f77e45904defb98bd6c5f2465c94": {
     "model_module": "@jupyter-widgets/base",
     "model_module_version": "1.2.0",
     "model_name": "LayoutModel",
     "state": {
      "_model_module": "@jupyter-widgets/base",
      "_model_module_version": "1.2.0",
      "_model_name": "LayoutModel",
      "_view_count": null,
      "_view_module": "@jupyter-widgets/base",
      "_view_module_version": "1.2.0",
      "_view_name": "LayoutView",
      "align_content": null,
      "align_items": null,
      "align_self": null,
      "border": null,
      "bottom": null,
      "display": null,
      "flex": null,
      "flex_flow": null,
      "grid_area": null,
      "grid_auto_columns": null,
      "grid_auto_flow": null,
      "grid_auto_rows": null,
      "grid_column": null,
      "grid_gap": null,
      "grid_row": null,
      "grid_template_areas": null,
      "grid_template_columns": null,
      "grid_template_rows": null,
      "height": null,
      "justify_content": null,
      "justify_items": null,
      "left": null,
      "margin": null,
      "max_height": null,
      "max_width": null,
      "min_height": null,
      "min_width": null,
      "object_fit": null,
      "object_position": null,
      "order": null,
      "overflow": null,
      "overflow_x": null,
      "overflow_y": null,
      "padding": null,
      "right": null,
      "top": null,
      "visibility": null,
      "width": null
     }
    },
    "db648aed5a1b4434b662b81aa5c87695": {
     "model_module": "@jupyter-widgets/controls",
     "model_module_version": "1.5.0",
     "model_name": "DescriptionStyleModel",
     "state": {
      "_model_module": "@jupyter-widgets/controls",
      "_model_module_version": "1.5.0",
      "_model_name": "DescriptionStyleModel",
      "_view_count": null,
      "_view_module": "@jupyter-widgets/base",
      "_view_module_version": "1.2.0",
      "_view_name": "StyleView",
      "description_width": ""
     }
    }
   }
  }
 },
 "nbformat": 4,
 "nbformat_minor": 5
}
