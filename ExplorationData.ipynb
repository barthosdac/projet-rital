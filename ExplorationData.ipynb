{
  "nbformat": 4,
  "nbformat_minor": 0,
  "metadata": {
    "colab": {
      "provenance": []
    },
    "kernelspec": {
      "name": "python3",
      "display_name": "Python 3"
    },
    "language_info": {
      "name": "python"
    },
    "gpuClass": "standard"
  },
  "cells": [
    {
      "cell_type": "code",
      "source": [
        "from google.colab import drive\n",
        "drive.mount('/content/drive')\n",
        "%cd /content/drive/MyDrive/M1_S2/RITAL/projet2\n",
        "import json\n",
        "import os\n",
        "import pandas as pd\n",
        "import numpy as np\n",
        "import matplotlib.pyplot as plt\n",
        "\n",
        "!pip install python-terrier\n",
        "import pandas as pd\n",
        "\n",
        "import pyterrier as pt\n",
        "if not pt.started():\n",
        "  pt.init(boot_packages=[\"com.github.terrierteam:terrier-prf:-SNAPSHOT\"])"
      ],
      "metadata": {
        "id": "Srj7CgW82Nl7"
      },
      "execution_count": null,
      "outputs": []
    },
    {
      "cell_type": "code",
      "source": [
        "def plot_smooth(y,T=None,log=False,title=\"\",color=None) :\n",
        "    if T!=None :\n",
        "        c=[]\n",
        "\n",
        "\n",
        "        for i in range(T,len(y)-T) :\n",
        "            c.append(np.sum(y[i-T:i+T])/(2*T))\n",
        "\n",
        "        plt.plot(range(T,len(c)+T),c,label=title,color=color)\n",
        "    else : \n",
        "        plt.plot(range(len(y)),y,label=title,color=color)\n",
        "    \n",
        "    if log :\n",
        "        plt.xscale('log')"
      ],
      "metadata": {
        "id": "KW_qekIC2S3k"
      },
      "execution_count": 2,
      "outputs": []
    },
    {
      "cell_type": "code",
      "source": [
        "def string_to_list (s):\n",
        "    \"\"\"\n",
        "    Converti un string de liste en une liste d'entier\n",
        "    ex \"21,22\"->[21,22]\n",
        "    \"\"\"\n",
        "    l=[]\n",
        "    for i in s.split(',') :\n",
        "        l.append(int(i))\n",
        "    return l"
      ],
      "metadata": {
        "id": "rMF8kJde2WlD"
      },
      "execution_count": 3,
      "outputs": []
    },
    {
      "cell_type": "markdown",
      "source": [
        "# 1 - Chargement des fichiers"
      ],
      "metadata": {
        "id": "OiWRr9H22cv0"
      }
    },
    {
      "cell_type": "markdown",
      "source": [
        "### 1a) Chargement documents"
      ],
      "metadata": {
        "id": "lUgtAG0q2eqw"
      }
    },
    {
      "cell_type": "markdown",
      "source": [
        "On charge le json dans un fichier pyterrier index"
      ],
      "metadata": {
        "id": "i1jFDM9e2gXW"
      }
    },
    {
      "cell_type": "code",
      "source": [
        "# chargement du json en dataframe\n",
        "with open('WikiPassageQA/document_passages.json', 'r') as f:\n",
        "        data_row = json.load(f)\n",
        "data={\"DocumentID\" : [int(k0) for k0,v0 in data_row.items() for k1,v1 in v0.items()],\n",
        "    \"docno\" : [k0+','+k1 for k0,v0 in data_row.items() for k1,v1 in v0.items()],\n",
        "      \"text\"  : [v1 for k0,v0 in data_row.items() for k1,v1 in v0.items()]}\n",
        "docs_df = pd.DataFrame(data)"
      ],
      "metadata": {
        "id": "q7waEm3s2h3E"
      },
      "execution_count": 4,
      "outputs": []
    },
    {
      "cell_type": "code",
      "source": [
        "import json\n",
        "pt_index_path = './passageQA'\n",
        "if not os.path.exists(pt_index_path + \"/data.properties\") :\n",
        "    # création de l'index\n",
        "    #indexer = pt.DFIndexer(pt_index_path, overwrite=True)\n",
        "    indexer = pt.DFIndexer(pt_index_path, overwrite=True,stemmer=None, stopwords=None, tokeniser=None)\n",
        "    index_ref = indexer.index(docs_df[\"text\"], docs_df[\"docno\"])\n",
        "\n",
        "else:\n",
        "    # dans le cas où l'index existe déjà\n",
        "    index_ref = pt.IndexRef.of(pt_index_path + \"/data.properties\")\n",
        "index = pt.IndexFactory.of(index_ref)"
      ],
      "metadata": {
        "id": "KoyaHwDP2kTU"
      },
      "execution_count": 5,
      "outputs": []
    },
    {
      "cell_type": "code",
      "source": [
        "print(index.getCollectionStatistics().toString())"
      ],
      "metadata": {
        "colab": {
          "base_uri": "https://localhost:8080/"
        },
        "id": "7YrkQpor2mCb",
        "outputId": "5d53c378-0900-459a-9a23-6957bf96a9e1"
      },
      "execution_count": 6,
      "outputs": [
        {
          "output_type": "stream",
          "name": "stdout",
          "text": [
            "Number of documents: 50612\n",
            "Number of terms: 132677\n",
            "Number of postings: 3385437\n",
            "Number of fields: 0\n",
            "Number of tokens: 4139789\n",
            "Field names: []\n",
            "Positions:   false\n",
            "\n"
          ]
        }
      ]
    },
    {
      "cell_type": "markdown",
      "source": [
        "### 1b) Chargement queries"
      ],
      "metadata": {
        "id": "6MHOUtU12rBs"
      }
    },
    {
      "cell_type": "code",
      "source": [
        "df_train = pd.read_csv(\"WikiPassageQA/train.tsv\",sep='\\t')\n",
        "df_test = pd.read_csv(\"WikiPassageQA/test.tsv\",sep='\\t')\n",
        "df_dev = pd.read_csv(\"WikiPassageQA/dev.tsv\",sep='\\t')"
      ],
      "metadata": {
        "id": "H7MYp9wg2s8N"
      },
      "execution_count": 8,
      "outputs": []
    },
    {
      "cell_type": "code",
      "source": [
        "queries_train=df_train[[\"QID\", \"Question\"]]\n",
        "queries_train.columns = ['qid', 'query']\n",
        "queries_test=df_test[[\"QID\", \"Question\"]]\n",
        "queries_test.columns = ['qid', 'query']\n",
        "queries_dev=df_dev[[\"QID\", \"Question\"]]\n",
        "queries_dev.columns = ['qid', 'query']\n",
        "\n",
        "queries_test"
      ],
      "metadata": {
        "colab": {
          "base_uri": "https://localhost:8080/",
          "height": 424
        },
        "id": "twdZAnIk22Kr",
        "outputId": "510a144a-e665-4b51-d672-9139b742b1fc"
      },
      "execution_count": 9,
      "outputs": [
        {
          "output_type": "execute_result",
          "data": {
            "text/plain": [
              "      qid                                              query\n",
              "0     449  What is Iraq's role in political unstabilization?\n",
              "1    1140  What have been the warmest years of global war...\n",
              "2     782            How were the Olympic games broadcasted?\n",
              "3    1421            What was the election turnout for 2008?\n",
              "4    3738  How has secularism been misinterpreted in Amer...\n",
              "..    ...                                                ...\n",
              "411  2522        What does the Church mean by Fallen Nature?\n",
              "412  2851                    What is the history of Eurasia?\n",
              "413  3705                What are the nicknames of Missouri?\n",
              "414   799  How do endoglossic and exoglossic languages co...\n",
              "415   232  Why are drainage basins important to the ecology?\n",
              "\n",
              "[416 rows x 2 columns]"
            ],
            "text/html": [
              "\n",
              "  <div id=\"df-d984472a-0cc6-4ec5-8e35-3373939623b7\">\n",
              "    <div class=\"colab-df-container\">\n",
              "      <div>\n",
              "<style scoped>\n",
              "    .dataframe tbody tr th:only-of-type {\n",
              "        vertical-align: middle;\n",
              "    }\n",
              "\n",
              "    .dataframe tbody tr th {\n",
              "        vertical-align: top;\n",
              "    }\n",
              "\n",
              "    .dataframe thead th {\n",
              "        text-align: right;\n",
              "    }\n",
              "</style>\n",
              "<table border=\"1\" class=\"dataframe\">\n",
              "  <thead>\n",
              "    <tr style=\"text-align: right;\">\n",
              "      <th></th>\n",
              "      <th>qid</th>\n",
              "      <th>query</th>\n",
              "    </tr>\n",
              "  </thead>\n",
              "  <tbody>\n",
              "    <tr>\n",
              "      <th>0</th>\n",
              "      <td>449</td>\n",
              "      <td>What is Iraq's role in political unstabilization?</td>\n",
              "    </tr>\n",
              "    <tr>\n",
              "      <th>1</th>\n",
              "      <td>1140</td>\n",
              "      <td>What have been the warmest years of global war...</td>\n",
              "    </tr>\n",
              "    <tr>\n",
              "      <th>2</th>\n",
              "      <td>782</td>\n",
              "      <td>How were the Olympic games broadcasted?</td>\n",
              "    </tr>\n",
              "    <tr>\n",
              "      <th>3</th>\n",
              "      <td>1421</td>\n",
              "      <td>What was the election turnout for 2008?</td>\n",
              "    </tr>\n",
              "    <tr>\n",
              "      <th>4</th>\n",
              "      <td>3738</td>\n",
              "      <td>How has secularism been misinterpreted in Amer...</td>\n",
              "    </tr>\n",
              "    <tr>\n",
              "      <th>...</th>\n",
              "      <td>...</td>\n",
              "      <td>...</td>\n",
              "    </tr>\n",
              "    <tr>\n",
              "      <th>411</th>\n",
              "      <td>2522</td>\n",
              "      <td>What does the Church mean by Fallen Nature?</td>\n",
              "    </tr>\n",
              "    <tr>\n",
              "      <th>412</th>\n",
              "      <td>2851</td>\n",
              "      <td>What is the history of Eurasia?</td>\n",
              "    </tr>\n",
              "    <tr>\n",
              "      <th>413</th>\n",
              "      <td>3705</td>\n",
              "      <td>What are the nicknames of Missouri?</td>\n",
              "    </tr>\n",
              "    <tr>\n",
              "      <th>414</th>\n",
              "      <td>799</td>\n",
              "      <td>How do endoglossic and exoglossic languages co...</td>\n",
              "    </tr>\n",
              "    <tr>\n",
              "      <th>415</th>\n",
              "      <td>232</td>\n",
              "      <td>Why are drainage basins important to the ecology?</td>\n",
              "    </tr>\n",
              "  </tbody>\n",
              "</table>\n",
              "<p>416 rows × 2 columns</p>\n",
              "</div>\n",
              "      <button class=\"colab-df-convert\" onclick=\"convertToInteractive('df-d984472a-0cc6-4ec5-8e35-3373939623b7')\"\n",
              "              title=\"Convert this dataframe to an interactive table.\"\n",
              "              style=\"display:none;\">\n",
              "        \n",
              "  <svg xmlns=\"http://www.w3.org/2000/svg\" height=\"24px\"viewBox=\"0 0 24 24\"\n",
              "       width=\"24px\">\n",
              "    <path d=\"M0 0h24v24H0V0z\" fill=\"none\"/>\n",
              "    <path d=\"M18.56 5.44l.94 2.06.94-2.06 2.06-.94-2.06-.94-.94-2.06-.94 2.06-2.06.94zm-11 1L8.5 8.5l.94-2.06 2.06-.94-2.06-.94L8.5 2.5l-.94 2.06-2.06.94zm10 10l.94 2.06.94-2.06 2.06-.94-2.06-.94-.94-2.06-.94 2.06-2.06.94z\"/><path d=\"M17.41 7.96l-1.37-1.37c-.4-.4-.92-.59-1.43-.59-.52 0-1.04.2-1.43.59L10.3 9.45l-7.72 7.72c-.78.78-.78 2.05 0 2.83L4 21.41c.39.39.9.59 1.41.59.51 0 1.02-.2 1.41-.59l7.78-7.78 2.81-2.81c.8-.78.8-2.07 0-2.86zM5.41 20L4 18.59l7.72-7.72 1.47 1.35L5.41 20z\"/>\n",
              "  </svg>\n",
              "      </button>\n",
              "      \n",
              "  <style>\n",
              "    .colab-df-container {\n",
              "      display:flex;\n",
              "      flex-wrap:wrap;\n",
              "      gap: 12px;\n",
              "    }\n",
              "\n",
              "    .colab-df-convert {\n",
              "      background-color: #E8F0FE;\n",
              "      border: none;\n",
              "      border-radius: 50%;\n",
              "      cursor: pointer;\n",
              "      display: none;\n",
              "      fill: #1967D2;\n",
              "      height: 32px;\n",
              "      padding: 0 0 0 0;\n",
              "      width: 32px;\n",
              "    }\n",
              "\n",
              "    .colab-df-convert:hover {\n",
              "      background-color: #E2EBFA;\n",
              "      box-shadow: 0px 1px 2px rgba(60, 64, 67, 0.3), 0px 1px 3px 1px rgba(60, 64, 67, 0.15);\n",
              "      fill: #174EA6;\n",
              "    }\n",
              "\n",
              "    [theme=dark] .colab-df-convert {\n",
              "      background-color: #3B4455;\n",
              "      fill: #D2E3FC;\n",
              "    }\n",
              "\n",
              "    [theme=dark] .colab-df-convert:hover {\n",
              "      background-color: #434B5C;\n",
              "      box-shadow: 0px 1px 3px 1px rgba(0, 0, 0, 0.15);\n",
              "      filter: drop-shadow(0px 1px 2px rgba(0, 0, 0, 0.3));\n",
              "      fill: #FFFFFF;\n",
              "    }\n",
              "  </style>\n",
              "\n",
              "      <script>\n",
              "        const buttonEl =\n",
              "          document.querySelector('#df-d984472a-0cc6-4ec5-8e35-3373939623b7 button.colab-df-convert');\n",
              "        buttonEl.style.display =\n",
              "          google.colab.kernel.accessAllowed ? 'block' : 'none';\n",
              "\n",
              "        async function convertToInteractive(key) {\n",
              "          const element = document.querySelector('#df-d984472a-0cc6-4ec5-8e35-3373939623b7');\n",
              "          const dataTable =\n",
              "            await google.colab.kernel.invokeFunction('convertToInteractive',\n",
              "                                                     [key], {});\n",
              "          if (!dataTable) return;\n",
              "\n",
              "          const docLinkHtml = 'Like what you see? Visit the ' +\n",
              "            '<a target=\"_blank\" href=https://colab.research.google.com/notebooks/data_table.ipynb>data table notebook</a>'\n",
              "            + ' to learn more about interactive tables.';\n",
              "          element.innerHTML = '';\n",
              "          dataTable['output_type'] = 'display_data';\n",
              "          await google.colab.output.renderOutput(dataTable, element);\n",
              "          const docLink = document.createElement('div');\n",
              "          docLink.innerHTML = docLinkHtml;\n",
              "          element.appendChild(docLink);\n",
              "        }\n",
              "      </script>\n",
              "    </div>\n",
              "  </div>\n",
              "  "
            ]
          },
          "metadata": {},
          "execution_count": 9
        }
      ]
    },
    {
      "cell_type": "markdown",
      "source": [
        "### 1c) Création qrels"
      ],
      "metadata": {
        "id": "yGRoI09_24EZ"
      }
    },
    {
      "cell_type": "code",
      "source": [
        "df_query = pd.concat([df_train, df_test, df_dev])\n",
        "df_complete = df_query.merge(docs_df, on =[\"DocumentID\"])\n",
        "df_complete"
      ],
      "metadata": {
        "colab": {
          "base_uri": "https://localhost:8080/",
          "height": 424
        },
        "id": "pKoz6BmY24Vl",
        "outputId": "72eef3ef-f26c-4086-ac25-c74c339e7ded"
      },
      "execution_count": 10,
      "outputs": [
        {
          "output_type": "execute_result",
          "data": {
            "text/plain": [
              "         QID                                           Question  DocumentID  \\\n",
              "0       3086  What is the role of conversionism in Evangelic...         672   \n",
              "1       3086  What is the role of conversionism in Evangelic...         672   \n",
              "2       3086  What is the role of conversionism in Evangelic...         672   \n",
              "3       3086  What is the role of conversionism in Evangelic...         672   \n",
              "4       3086  What is the role of conversionism in Evangelic...         672   \n",
              "...      ...                                                ...         ...   \n",
              "244131  2570                   How was the kalmar Union formed?         553   \n",
              "244132  2570                   How was the kalmar Union formed?         553   \n",
              "244133  2570                   How was the kalmar Union formed?         553   \n",
              "244134  2570                   How was the kalmar Union formed?         553   \n",
              "244135  2570                   How was the kalmar Union formed?         553   \n",
              "\n",
              "               DocumentName RelevantPassages   docno  \\\n",
              "0       Evangelicalism.html                4  672,42   \n",
              "1       Evangelicalism.html                4  672,48   \n",
              "2       Evangelicalism.html                4  672,43   \n",
              "3       Evangelicalism.html                4  672,49   \n",
              "4       Evangelicalism.html                4  672,24   \n",
              "...                     ...              ...     ...   \n",
              "244131          Norway.html      18,19,20,21  553,72   \n",
              "244132          Norway.html      18,19,20,21  553,71   \n",
              "244133          Norway.html      18,19,20,21  553,70   \n",
              "244134          Norway.html      18,19,20,21  553,79   \n",
              "244135          Norway.html      18,19,20,21  553,78   \n",
              "\n",
              "                                                     text  \n",
              "0       They claimed major credit for the election of ...  \n",
              "1       Evangelicalism was a major force in the Anglic...  \n",
              "2       The rich and the poor remained traditional Cat...  \n",
              "3       The Evangelical Alliance, formed in 1846, was ...  \n",
              "4       By 1737, Whitefield had become a national cele...  \n",
              "...                                                   ...  \n",
              "244131  The budgetary rule is to spend no more than 4%...  \n",
              "244132  Norway is the fifth-largest oil exporter and t...  \n",
              "244133  In 2011, 28% of state revenues were generated ...  \n",
              "244134  The two most prominent are the E6 going north-...  \n",
              "244135  Several companies operate freight trains. Inve...  \n",
              "\n",
              "[244136 rows x 7 columns]"
            ],
            "text/html": [
              "\n",
              "  <div id=\"df-80823483-d851-4d21-bd09-02b0eaec9e41\">\n",
              "    <div class=\"colab-df-container\">\n",
              "      <div>\n",
              "<style scoped>\n",
              "    .dataframe tbody tr th:only-of-type {\n",
              "        vertical-align: middle;\n",
              "    }\n",
              "\n",
              "    .dataframe tbody tr th {\n",
              "        vertical-align: top;\n",
              "    }\n",
              "\n",
              "    .dataframe thead th {\n",
              "        text-align: right;\n",
              "    }\n",
              "</style>\n",
              "<table border=\"1\" class=\"dataframe\">\n",
              "  <thead>\n",
              "    <tr style=\"text-align: right;\">\n",
              "      <th></th>\n",
              "      <th>QID</th>\n",
              "      <th>Question</th>\n",
              "      <th>DocumentID</th>\n",
              "      <th>DocumentName</th>\n",
              "      <th>RelevantPassages</th>\n",
              "      <th>docno</th>\n",
              "      <th>text</th>\n",
              "    </tr>\n",
              "  </thead>\n",
              "  <tbody>\n",
              "    <tr>\n",
              "      <th>0</th>\n",
              "      <td>3086</td>\n",
              "      <td>What is the role of conversionism in Evangelic...</td>\n",
              "      <td>672</td>\n",
              "      <td>Evangelicalism.html</td>\n",
              "      <td>4</td>\n",
              "      <td>672,42</td>\n",
              "      <td>They claimed major credit for the election of ...</td>\n",
              "    </tr>\n",
              "    <tr>\n",
              "      <th>1</th>\n",
              "      <td>3086</td>\n",
              "      <td>What is the role of conversionism in Evangelic...</td>\n",
              "      <td>672</td>\n",
              "      <td>Evangelicalism.html</td>\n",
              "      <td>4</td>\n",
              "      <td>672,48</td>\n",
              "      <td>Evangelicalism was a major force in the Anglic...</td>\n",
              "    </tr>\n",
              "    <tr>\n",
              "      <th>2</th>\n",
              "      <td>3086</td>\n",
              "      <td>What is the role of conversionism in Evangelic...</td>\n",
              "      <td>672</td>\n",
              "      <td>Evangelicalism.html</td>\n",
              "      <td>4</td>\n",
              "      <td>672,43</td>\n",
              "      <td>The rich and the poor remained traditional Cat...</td>\n",
              "    </tr>\n",
              "    <tr>\n",
              "      <th>3</th>\n",
              "      <td>3086</td>\n",
              "      <td>What is the role of conversionism in Evangelic...</td>\n",
              "      <td>672</td>\n",
              "      <td>Evangelicalism.html</td>\n",
              "      <td>4</td>\n",
              "      <td>672,49</td>\n",
              "      <td>The Evangelical Alliance, formed in 1846, was ...</td>\n",
              "    </tr>\n",
              "    <tr>\n",
              "      <th>4</th>\n",
              "      <td>3086</td>\n",
              "      <td>What is the role of conversionism in Evangelic...</td>\n",
              "      <td>672</td>\n",
              "      <td>Evangelicalism.html</td>\n",
              "      <td>4</td>\n",
              "      <td>672,24</td>\n",
              "      <td>By 1737, Whitefield had become a national cele...</td>\n",
              "    </tr>\n",
              "    <tr>\n",
              "      <th>...</th>\n",
              "      <td>...</td>\n",
              "      <td>...</td>\n",
              "      <td>...</td>\n",
              "      <td>...</td>\n",
              "      <td>...</td>\n",
              "      <td>...</td>\n",
              "      <td>...</td>\n",
              "    </tr>\n",
              "    <tr>\n",
              "      <th>244131</th>\n",
              "      <td>2570</td>\n",
              "      <td>How was the kalmar Union formed?</td>\n",
              "      <td>553</td>\n",
              "      <td>Norway.html</td>\n",
              "      <td>18,19,20,21</td>\n",
              "      <td>553,72</td>\n",
              "      <td>The budgetary rule is to spend no more than 4%...</td>\n",
              "    </tr>\n",
              "    <tr>\n",
              "      <th>244132</th>\n",
              "      <td>2570</td>\n",
              "      <td>How was the kalmar Union formed?</td>\n",
              "      <td>553</td>\n",
              "      <td>Norway.html</td>\n",
              "      <td>18,19,20,21</td>\n",
              "      <td>553,71</td>\n",
              "      <td>Norway is the fifth-largest oil exporter and t...</td>\n",
              "    </tr>\n",
              "    <tr>\n",
              "      <th>244133</th>\n",
              "      <td>2570</td>\n",
              "      <td>How was the kalmar Union formed?</td>\n",
              "      <td>553</td>\n",
              "      <td>Norway.html</td>\n",
              "      <td>18,19,20,21</td>\n",
              "      <td>553,70</td>\n",
              "      <td>In 2011, 28% of state revenues were generated ...</td>\n",
              "    </tr>\n",
              "    <tr>\n",
              "      <th>244134</th>\n",
              "      <td>2570</td>\n",
              "      <td>How was the kalmar Union formed?</td>\n",
              "      <td>553</td>\n",
              "      <td>Norway.html</td>\n",
              "      <td>18,19,20,21</td>\n",
              "      <td>553,79</td>\n",
              "      <td>The two most prominent are the E6 going north-...</td>\n",
              "    </tr>\n",
              "    <tr>\n",
              "      <th>244135</th>\n",
              "      <td>2570</td>\n",
              "      <td>How was the kalmar Union formed?</td>\n",
              "      <td>553</td>\n",
              "      <td>Norway.html</td>\n",
              "      <td>18,19,20,21</td>\n",
              "      <td>553,78</td>\n",
              "      <td>Several companies operate freight trains. Inve...</td>\n",
              "    </tr>\n",
              "  </tbody>\n",
              "</table>\n",
              "<p>244136 rows × 7 columns</p>\n",
              "</div>\n",
              "      <button class=\"colab-df-convert\" onclick=\"convertToInteractive('df-80823483-d851-4d21-bd09-02b0eaec9e41')\"\n",
              "              title=\"Convert this dataframe to an interactive table.\"\n",
              "              style=\"display:none;\">\n",
              "        \n",
              "  <svg xmlns=\"http://www.w3.org/2000/svg\" height=\"24px\"viewBox=\"0 0 24 24\"\n",
              "       width=\"24px\">\n",
              "    <path d=\"M0 0h24v24H0V0z\" fill=\"none\"/>\n",
              "    <path d=\"M18.56 5.44l.94 2.06.94-2.06 2.06-.94-2.06-.94-.94-2.06-.94 2.06-2.06.94zm-11 1L8.5 8.5l.94-2.06 2.06-.94-2.06-.94L8.5 2.5l-.94 2.06-2.06.94zm10 10l.94 2.06.94-2.06 2.06-.94-2.06-.94-.94-2.06-.94 2.06-2.06.94z\"/><path d=\"M17.41 7.96l-1.37-1.37c-.4-.4-.92-.59-1.43-.59-.52 0-1.04.2-1.43.59L10.3 9.45l-7.72 7.72c-.78.78-.78 2.05 0 2.83L4 21.41c.39.39.9.59 1.41.59.51 0 1.02-.2 1.41-.59l7.78-7.78 2.81-2.81c.8-.78.8-2.07 0-2.86zM5.41 20L4 18.59l7.72-7.72 1.47 1.35L5.41 20z\"/>\n",
              "  </svg>\n",
              "      </button>\n",
              "      \n",
              "  <style>\n",
              "    .colab-df-container {\n",
              "      display:flex;\n",
              "      flex-wrap:wrap;\n",
              "      gap: 12px;\n",
              "    }\n",
              "\n",
              "    .colab-df-convert {\n",
              "      background-color: #E8F0FE;\n",
              "      border: none;\n",
              "      border-radius: 50%;\n",
              "      cursor: pointer;\n",
              "      display: none;\n",
              "      fill: #1967D2;\n",
              "      height: 32px;\n",
              "      padding: 0 0 0 0;\n",
              "      width: 32px;\n",
              "    }\n",
              "\n",
              "    .colab-df-convert:hover {\n",
              "      background-color: #E2EBFA;\n",
              "      box-shadow: 0px 1px 2px rgba(60, 64, 67, 0.3), 0px 1px 3px 1px rgba(60, 64, 67, 0.15);\n",
              "      fill: #174EA6;\n",
              "    }\n",
              "\n",
              "    [theme=dark] .colab-df-convert {\n",
              "      background-color: #3B4455;\n",
              "      fill: #D2E3FC;\n",
              "    }\n",
              "\n",
              "    [theme=dark] .colab-df-convert:hover {\n",
              "      background-color: #434B5C;\n",
              "      box-shadow: 0px 1px 3px 1px rgba(0, 0, 0, 0.15);\n",
              "      filter: drop-shadow(0px 1px 2px rgba(0, 0, 0, 0.3));\n",
              "      fill: #FFFFFF;\n",
              "    }\n",
              "  </style>\n",
              "\n",
              "      <script>\n",
              "        const buttonEl =\n",
              "          document.querySelector('#df-80823483-d851-4d21-bd09-02b0eaec9e41 button.colab-df-convert');\n",
              "        buttonEl.style.display =\n",
              "          google.colab.kernel.accessAllowed ? 'block' : 'none';\n",
              "\n",
              "        async function convertToInteractive(key) {\n",
              "          const element = document.querySelector('#df-80823483-d851-4d21-bd09-02b0eaec9e41');\n",
              "          const dataTable =\n",
              "            await google.colab.kernel.invokeFunction('convertToInteractive',\n",
              "                                                     [key], {});\n",
              "          if (!dataTable) return;\n",
              "\n",
              "          const docLinkHtml = 'Like what you see? Visit the ' +\n",
              "            '<a target=\"_blank\" href=https://colab.research.google.com/notebooks/data_table.ipynb>data table notebook</a>'\n",
              "            + ' to learn more about interactive tables.';\n",
              "          element.innerHTML = '';\n",
              "          dataTable['output_type'] = 'display_data';\n",
              "          await google.colab.output.renderOutput(dataTable, element);\n",
              "          const docLink = document.createElement('div');\n",
              "          docLink.innerHTML = docLinkHtml;\n",
              "          element.appendChild(docLink);\n",
              "        }\n",
              "      </script>\n",
              "    </div>\n",
              "  </div>\n",
              "  "
            ]
          },
          "metadata": {},
          "execution_count": 10
        }
      ]
    },
    {
      "cell_type": "code",
      "source": [
        "# cree list relevant\n",
        "relevant = []\n",
        "for row in df_complete.iterrows():\n",
        "  passage = row[1]['RelevantPassages'].split(\",\")\n",
        "  doc_passage = row[1]['docno'].split(\",\")[1] # doc,pass -> [1]\n",
        "  if doc_passage in passage:\n",
        "    relevant.append(1)\n",
        "  else:\n",
        "    relevant.append(0)\n",
        "\n",
        "df_complete[\"label\"] = relevant\n",
        "qrel = df_complete[[\"QID\", \"docno\",\"label\"]]\n",
        "qrel.columns = ['qid', 'docno', 'label']\n",
        "qrel = qrel.astype({\"qid\": str, \"docno\": object, \"label\":object}) #qid en string pour pt.Experiment\n",
        "qrel"
      ],
      "metadata": {
        "colab": {
          "base_uri": "https://localhost:8080/",
          "height": 424
        },
        "id": "Nm0QpHNj27Hi",
        "outputId": "a0b49dcd-4bc9-4f6e-a759-8b55ffc6ff81"
      },
      "execution_count": 11,
      "outputs": [
        {
          "output_type": "execute_result",
          "data": {
            "text/plain": [
              "         qid   docno label\n",
              "0       3086  672,42     0\n",
              "1       3086  672,48     0\n",
              "2       3086  672,43     0\n",
              "3       3086  672,49     0\n",
              "4       3086  672,24     0\n",
              "...      ...     ...   ...\n",
              "244131  2570  553,72     0\n",
              "244132  2570  553,71     0\n",
              "244133  2570  553,70     0\n",
              "244134  2570  553,79     0\n",
              "244135  2570  553,78     0\n",
              "\n",
              "[244136 rows x 3 columns]"
            ],
            "text/html": [
              "\n",
              "  <div id=\"df-ded226b4-1838-484a-a244-40a965fbe898\">\n",
              "    <div class=\"colab-df-container\">\n",
              "      <div>\n",
              "<style scoped>\n",
              "    .dataframe tbody tr th:only-of-type {\n",
              "        vertical-align: middle;\n",
              "    }\n",
              "\n",
              "    .dataframe tbody tr th {\n",
              "        vertical-align: top;\n",
              "    }\n",
              "\n",
              "    .dataframe thead th {\n",
              "        text-align: right;\n",
              "    }\n",
              "</style>\n",
              "<table border=\"1\" class=\"dataframe\">\n",
              "  <thead>\n",
              "    <tr style=\"text-align: right;\">\n",
              "      <th></th>\n",
              "      <th>qid</th>\n",
              "      <th>docno</th>\n",
              "      <th>label</th>\n",
              "    </tr>\n",
              "  </thead>\n",
              "  <tbody>\n",
              "    <tr>\n",
              "      <th>0</th>\n",
              "      <td>3086</td>\n",
              "      <td>672,42</td>\n",
              "      <td>0</td>\n",
              "    </tr>\n",
              "    <tr>\n",
              "      <th>1</th>\n",
              "      <td>3086</td>\n",
              "      <td>672,48</td>\n",
              "      <td>0</td>\n",
              "    </tr>\n",
              "    <tr>\n",
              "      <th>2</th>\n",
              "      <td>3086</td>\n",
              "      <td>672,43</td>\n",
              "      <td>0</td>\n",
              "    </tr>\n",
              "    <tr>\n",
              "      <th>3</th>\n",
              "      <td>3086</td>\n",
              "      <td>672,49</td>\n",
              "      <td>0</td>\n",
              "    </tr>\n",
              "    <tr>\n",
              "      <th>4</th>\n",
              "      <td>3086</td>\n",
              "      <td>672,24</td>\n",
              "      <td>0</td>\n",
              "    </tr>\n",
              "    <tr>\n",
              "      <th>...</th>\n",
              "      <td>...</td>\n",
              "      <td>...</td>\n",
              "      <td>...</td>\n",
              "    </tr>\n",
              "    <tr>\n",
              "      <th>244131</th>\n",
              "      <td>2570</td>\n",
              "      <td>553,72</td>\n",
              "      <td>0</td>\n",
              "    </tr>\n",
              "    <tr>\n",
              "      <th>244132</th>\n",
              "      <td>2570</td>\n",
              "      <td>553,71</td>\n",
              "      <td>0</td>\n",
              "    </tr>\n",
              "    <tr>\n",
              "      <th>244133</th>\n",
              "      <td>2570</td>\n",
              "      <td>553,70</td>\n",
              "      <td>0</td>\n",
              "    </tr>\n",
              "    <tr>\n",
              "      <th>244134</th>\n",
              "      <td>2570</td>\n",
              "      <td>553,79</td>\n",
              "      <td>0</td>\n",
              "    </tr>\n",
              "    <tr>\n",
              "      <th>244135</th>\n",
              "      <td>2570</td>\n",
              "      <td>553,78</td>\n",
              "      <td>0</td>\n",
              "    </tr>\n",
              "  </tbody>\n",
              "</table>\n",
              "<p>244136 rows × 3 columns</p>\n",
              "</div>\n",
              "      <button class=\"colab-df-convert\" onclick=\"convertToInteractive('df-ded226b4-1838-484a-a244-40a965fbe898')\"\n",
              "              title=\"Convert this dataframe to an interactive table.\"\n",
              "              style=\"display:none;\">\n",
              "        \n",
              "  <svg xmlns=\"http://www.w3.org/2000/svg\" height=\"24px\"viewBox=\"0 0 24 24\"\n",
              "       width=\"24px\">\n",
              "    <path d=\"M0 0h24v24H0V0z\" fill=\"none\"/>\n",
              "    <path d=\"M18.56 5.44l.94 2.06.94-2.06 2.06-.94-2.06-.94-.94-2.06-.94 2.06-2.06.94zm-11 1L8.5 8.5l.94-2.06 2.06-.94-2.06-.94L8.5 2.5l-.94 2.06-2.06.94zm10 10l.94 2.06.94-2.06 2.06-.94-2.06-.94-.94-2.06-.94 2.06-2.06.94z\"/><path d=\"M17.41 7.96l-1.37-1.37c-.4-.4-.92-.59-1.43-.59-.52 0-1.04.2-1.43.59L10.3 9.45l-7.72 7.72c-.78.78-.78 2.05 0 2.83L4 21.41c.39.39.9.59 1.41.59.51 0 1.02-.2 1.41-.59l7.78-7.78 2.81-2.81c.8-.78.8-2.07 0-2.86zM5.41 20L4 18.59l7.72-7.72 1.47 1.35L5.41 20z\"/>\n",
              "  </svg>\n",
              "      </button>\n",
              "      \n",
              "  <style>\n",
              "    .colab-df-container {\n",
              "      display:flex;\n",
              "      flex-wrap:wrap;\n",
              "      gap: 12px;\n",
              "    }\n",
              "\n",
              "    .colab-df-convert {\n",
              "      background-color: #E8F0FE;\n",
              "      border: none;\n",
              "      border-radius: 50%;\n",
              "      cursor: pointer;\n",
              "      display: none;\n",
              "      fill: #1967D2;\n",
              "      height: 32px;\n",
              "      padding: 0 0 0 0;\n",
              "      width: 32px;\n",
              "    }\n",
              "\n",
              "    .colab-df-convert:hover {\n",
              "      background-color: #E2EBFA;\n",
              "      box-shadow: 0px 1px 2px rgba(60, 64, 67, 0.3), 0px 1px 3px 1px rgba(60, 64, 67, 0.15);\n",
              "      fill: #174EA6;\n",
              "    }\n",
              "\n",
              "    [theme=dark] .colab-df-convert {\n",
              "      background-color: #3B4455;\n",
              "      fill: #D2E3FC;\n",
              "    }\n",
              "\n",
              "    [theme=dark] .colab-df-convert:hover {\n",
              "      background-color: #434B5C;\n",
              "      box-shadow: 0px 1px 3px 1px rgba(0, 0, 0, 0.15);\n",
              "      filter: drop-shadow(0px 1px 2px rgba(0, 0, 0, 0.3));\n",
              "      fill: #FFFFFF;\n",
              "    }\n",
              "  </style>\n",
              "\n",
              "      <script>\n",
              "        const buttonEl =\n",
              "          document.querySelector('#df-ded226b4-1838-484a-a244-40a965fbe898 button.colab-df-convert');\n",
              "        buttonEl.style.display =\n",
              "          google.colab.kernel.accessAllowed ? 'block' : 'none';\n",
              "\n",
              "        async function convertToInteractive(key) {\n",
              "          const element = document.querySelector('#df-ded226b4-1838-484a-a244-40a965fbe898');\n",
              "          const dataTable =\n",
              "            await google.colab.kernel.invokeFunction('convertToInteractive',\n",
              "                                                     [key], {});\n",
              "          if (!dataTable) return;\n",
              "\n",
              "          const docLinkHtml = 'Like what you see? Visit the ' +\n",
              "            '<a target=\"_blank\" href=https://colab.research.google.com/notebooks/data_table.ipynb>data table notebook</a>'\n",
              "            + ' to learn more about interactive tables.';\n",
              "          element.innerHTML = '';\n",
              "          dataTable['output_type'] = 'display_data';\n",
              "          await google.colab.output.renderOutput(dataTable, element);\n",
              "          const docLink = document.createElement('div');\n",
              "          docLink.innerHTML = docLinkHtml;\n",
              "          element.appendChild(docLink);\n",
              "        }\n",
              "      </script>\n",
              "    </div>\n",
              "  </div>\n",
              "  "
            ]
          },
          "metadata": {},
          "execution_count": 11
        }
      ]
    },
    {
      "cell_type": "markdown",
      "source": [
        "# 2 - Analyse des données\n",
        "### 2a) Requetes"
      ],
      "metadata": {
        "id": "D5oPmVFn29YN"
      }
    },
    {
      "cell_type": "code",
      "source": [
        "queries_list=list(df_query['Question'])"
      ],
      "metadata": {
        "id": "nWcdf-Rt292t"
      },
      "execution_count": 12,
      "outputs": []
    },
    {
      "cell_type": "markdown",
      "source": [
        "Tri par premier mot"
      ],
      "metadata": {
        "id": "xCal_kQU3AsW"
      }
    },
    {
      "cell_type": "code",
      "source": [
        "queries_dict={}\n",
        "for query in queries_list :\n",
        "    prmier = query.split(' ')[0].lower()\n",
        "    if prmier in queries_dict.keys() :\n",
        "        queries_dict[prmier].append(query)\n",
        "    else :\n",
        "        queries_dict[prmier] = [query]"
      ],
      "metadata": {
        "id": "DIDmZFoQ3A81"
      },
      "execution_count": 13,
      "outputs": []
    },
    {
      "cell_type": "markdown",
      "source": [
        "On affiche le Top 3 :"
      ],
      "metadata": {
        "id": "bVb8e5Ei3Dak"
      }
    },
    {
      "cell_type": "code",
      "source": [
        "prmiers = [(prmier,len(queries)) for prmier,queries in queries_dict.items()]\n",
        "prmiers = sorted(prmiers, key=lambda x : x[1], reverse=True)"
      ],
      "metadata": {
        "id": "i0mwguW93DnE"
      },
      "execution_count": 14,
      "outputs": []
    },
    {
      "cell_type": "code",
      "source": [
        "for prmier, nb in prmiers[:3] :\n",
        "    print(f\"{prmier} : {nb}\")"
      ],
      "metadata": {
        "colab": {
          "base_uri": "https://localhost:8080/"
        },
        "id": "Oxs4TByw3FAM",
        "outputId": "c9749efa-7370-4c87-f1f0-c869729c3a61"
      },
      "execution_count": 15,
      "outputs": [
        {
          "output_type": "stream",
          "name": "stdout",
          "text": [
            "what : 1826\n",
            "how : 1526\n",
            "why : 579\n"
          ]
        }
      ]
    },
    {
      "cell_type": "markdown",
      "source": [
        "Pour ce top 3, on affiche la répartion des tailles des questions"
      ],
      "metadata": {
        "id": "RF1DLgPd3Ho7"
      }
    },
    {
      "cell_type": "code",
      "source": [
        "prmiers_top3=[x[0] for x in prmiers[:3]]\n",
        "prmiers_top3"
      ],
      "metadata": {
        "colab": {
          "base_uri": "https://localhost:8080/"
        },
        "id": "vNL1k1hJ3GQc",
        "outputId": "9a7bb7b0-6586-4c79-8997-37cb27bd49b0"
      },
      "execution_count": 16,
      "outputs": [
        {
          "output_type": "execute_result",
          "data": {
            "text/plain": [
              "['what', 'how', 'why']"
            ]
          },
          "metadata": {},
          "execution_count": 16
        }
      ]
    },
    {
      "cell_type": "code",
      "source": [
        "max_taille_requetes = np.max([len(query) for query in queries_list])\n",
        "max_taille_requetes"
      ],
      "metadata": {
        "colab": {
          "base_uri": "https://localhost:8080/"
        },
        "id": "4flqQuov3L_U",
        "outputId": "b4036936-f1c8-416d-d650-bc08edd4b43d"
      },
      "execution_count": 17,
      "outputs": [
        {
          "output_type": "execute_result",
          "data": {
            "text/plain": [
              "259"
            ]
          },
          "metadata": {},
          "execution_count": 17
        }
      ]
    },
    {
      "cell_type": "code",
      "source": [
        "densites_requetes={prmier : np.zeros(max_taille_requetes+1) for prmier in prmiers_top3}\n",
        "for prmier in prmiers_top3 :\n",
        "    for query in queries_dict[prmier] :\n",
        "        densites_requetes[prmier][len(query)]+=1\n",
        "for prmier in prmiers_top3 :\n",
        "    densites_requetes[prmier]=densites_requetes[prmier]/densites_requetes[prmier].sum()"
      ],
      "metadata": {
        "id": "5-XmqNzs3N3N"
      },
      "execution_count": 18,
      "outputs": []
    },
    {
      "cell_type": "code",
      "source": [
        "for prmier, densite in densites_requetes.items() :\n",
        "    plot_smooth(densite,T=10,title=prmier)\n",
        "plt.legend()\n",
        "plt.xlabel(\"Taille de la requete\")\n",
        "plt.ylabel(\"Densité\")"
      ],
      "metadata": {
        "colab": {
          "base_uri": "https://localhost:8080/",
          "height": 468
        },
        "id": "dsKa7ls33PZz",
        "outputId": "f4412608-1ded-4236-bc5e-efb7b5d691e4"
      },
      "execution_count": 19,
      "outputs": [
        {
          "output_type": "execute_result",
          "data": {
            "text/plain": [
              "Text(0, 0.5, 'Densité')"
            ]
          },
          "metadata": {},
          "execution_count": 19
        },
        {
          "output_type": "display_data",
          "data": {
            "text/plain": [
              "<Figure size 640x480 with 1 Axes>"
            ],
            "image/png": "[encoded data removed]"
          },
          "metadata": {}
        }
      ]
    },
    {
      "cell_type": "markdown",
      "source": [
        "### 2b) Documents\n",
        "Calculons la taille moyenne d'un passage en mot"
      ],
      "metadata": {
        "id": "7llGMaFT3R5U"
      }
    },
    {
      "cell_type": "code",
      "source": [
        "tailles_mean=np.mean([len(text.split()) for text in docs_df['text']])\n",
        "tailles_mean"
      ],
      "metadata": {
        "colab": {
          "base_uri": "https://localhost:8080/"
        },
        "id": "OgHZ8fxt3SHK",
        "outputId": "e5497b13-8324-4800-eeed-2daf8443fa97"
      },
      "execution_count": 20,
      "outputs": [
        {
          "output_type": "execute_result",
          "data": {
            "text/plain": [
              "132.85691140441003"
            ]
          },
          "metadata": {},
          "execution_count": 20
        }
      ]
    },
    {
      "cell_type": "markdown",
      "source": [
        "### 2c) Réponses"
      ],
      "metadata": {
        "id": "GF1SdI4b3Uc8"
      }
    },
    {
      "cell_type": "markdown",
      "source": [
        "On calcule comme précédemment la densité de répartition de taille de réponses en fonction du prmier mot"
      ],
      "metadata": {
        "id": "sFmjBV3e3Ulc"
      }
    },
    {
      "cell_type": "code",
      "source": [
        "max_taille_reponses=600"
      ],
      "metadata": {
        "id": "aRHVqgN-3Whf"
      },
      "execution_count": 21,
      "outputs": []
    },
    {
      "cell_type": "code",
      "source": [
        "densites_reponses={prmier : np.zeros(max_taille_reponses+1) for prmier in prmiers_top3}\n",
        "for prmier in prmiers_top3 :\n",
        "    for query in queries_dict[prmier] :\n",
        "        taille=0\n",
        "        qid=(df_query[df_query['Question']==query]['QID']).iloc[0]\n",
        "        documentID=(df_query[df_query['QID']==qid]['DocumentID']).iloc[0]\n",
        "        relevant_passages=(df_query[df_query['QID']==qid]['RelevantPassages']).iloc[0]\n",
        "        for passage in string_to_list(relevant_passages) :\n",
        "            docno=str(documentID)+','+str(passage)\n",
        "            texte=docs_df[docs_df['docno']==docno]['text'].iloc[0]\n",
        "            taille+=len(texte.split())\n",
        "            \n",
        "        if taille<=max_taille_reponses :\n",
        "            densites_reponses[prmier][taille]+=1\n",
        "        \n",
        "for prmier in prmiers_top3 :\n",
        "    densites_reponses[prmier]=densites_reponses[prmier]/densites_reponses[prmier].sum()"
      ],
      "metadata": {
        "id": "GED88eLc3YF2"
      },
      "execution_count": 22,
      "outputs": []
    },
    {
      "cell_type": "code",
      "source": [
        "for prmier, densite in densites_reponses.items() :\n",
        "    plot_smooth(densite,T=15,title=prmier)\n",
        "plt.legend()\n",
        "plt.xlabel(\"Taille de la réponse\")\n",
        "plt.ylabel(\"Densité\")"
      ],
      "metadata": {
        "colab": {
          "base_uri": "https://localhost:8080/",
          "height": 467
        },
        "id": "GVCaq7ze3a2E",
        "outputId": "556cd61c-4670-4c86-c42c-75ff0c8abd7b"
      },
      "execution_count": 23,
      "outputs": [
        {
          "output_type": "execute_result",
          "data": {
            "text/plain": [
              "Text(0, 0.5, 'Densité')"
            ]
          },
          "metadata": {},
          "execution_count": 23
        },
        {
          "output_type": "display_data",
          "data": {
            "text/plain": [
              "<Figure size 640x480 with 1 Axes>"
            ],
            "image/png": "[encoded data removed]"
          },
          "metadata": {}
        }
      ]
    },
    {
      "cell_type": "markdown",
      "source": [
        "C'est cohérent avec la taille moyenne d'un passage"
      ],
      "metadata": {
        "id": "BuMZbPKZ3cqj"
      }
    }
  ]
}